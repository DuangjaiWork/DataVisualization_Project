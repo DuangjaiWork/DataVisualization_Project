{
  "nbformat": 4,
  "nbformat_minor": 0,
  "metadata": {
    "colab": {
      "provenance": []
    },
    "kernelspec": {
      "name": "python3",
      "display_name": "Python 3"
    },
    "language_info": {
      "name": "python"
    }
  },
  "cells": [
    {
      "cell_type": "markdown",
      "source": [
        "ใน Python มี Library สำหรับดึงข้อมูลจากไฟล์ HTML ชื่อว่า Beautifulsoup โดยเราจะใช้ไลบรารี่ Requests ในการดึงข้อมูลเว็บไซต์ผ่าน HTTP"
      ],
      "metadata": {
        "id": "cNdLdFCtJNL1"
      }
    },
    {
      "cell_type": "code",
      "execution_count": null,
      "metadata": {
        "id": "0h833W_efhjX"
      },
      "outputs": [],
      "source": [
        "import requests\n",
        "from bs4 import BeautifulSoup"
      ]
    },
    {
      "cell_type": "markdown",
      "source": [
        "## 1.การเปิดเว็บไซต์ และดึงข้อมูลในลักษณะ HTML\n",
        "ดึงข้อมูลจาก web page จำนวน 25 อัน (DSI200Project_beautifulsoup_example.ipynb)"
      ],
      "metadata": {
        "id": "PhlmDjT2JXeB"
      }
    },
    {
      "cell_type": "code",
      "source": [
        "url1_1 = \"https://sgulyano.github.io/eval/02226005.html\"\n",
        "r1_1 = requests.get(url1_1)\n",
        "soup1_1 = BeautifulSoup(r1_1.content, \"html.parser\")"
      ],
      "metadata": {
        "id": "Ma-ohel4fly_"
      },
      "execution_count": null,
      "outputs": []
    },
    {
      "cell_type": "code",
      "source": [
        "url2_1 = \"https://sgulyano.github.io/eval/33472214.html\"\n",
        "r2_1 = requests.get(url2_1)\n",
        "soup2_1 = BeautifulSoup(r2_1.content, \"html.parser\")"
      ],
      "metadata": {
        "id": "pGuUKNyLRcTK"
      },
      "execution_count": null,
      "outputs": []
    },
    {
      "cell_type": "code",
      "source": [
        "url3_1 = \"https://sgulyano.github.io/eval/48033334.html\"\n",
        "r3_1 = requests.get(url3_1)\n",
        "soup3_1 = BeautifulSoup(r3_1.content, \"html.parser\")"
      ],
      "metadata": {
        "id": "a3tstj69TqkD"
      },
      "execution_count": null,
      "outputs": []
    },
    {
      "cell_type": "code",
      "source": [
        "url4_1 = \"https://sgulyano.github.io/eval/66887754.html\"\n",
        "r4_1 = requests.get(url4_1)\n",
        "soup4_1 = BeautifulSoup(r4_1.content, \"html.parser\")"
      ],
      "metadata": {
        "id": "cv3NvcuMUfHE"
      },
      "execution_count": null,
      "outputs": []
    },
    {
      "cell_type": "code",
      "source": [
        "url1_2 = \"https://sgulyano.github.io/eval/79550445.html\"\n",
        "r1_2 = requests.get(url1_2)\n",
        "soup1_2 = BeautifulSoup(r1_2.content, \"html.parser\")"
      ],
      "metadata": {
        "id": "RFxgcZ-WboFf"
      },
      "execution_count": null,
      "outputs": []
    },
    {
      "cell_type": "code",
      "source": [
        "url2_2 = \"https://sgulyano.github.io/eval/45435188.html\"\n",
        "r2_2 = requests.get(url2_2)\n",
        "soup2_2 = BeautifulSoup(r2_2.content, \"html.parser\")"
      ],
      "metadata": {
        "id": "3IPb4tSQdn9T"
      },
      "execution_count": null,
      "outputs": []
    },
    {
      "cell_type": "code",
      "source": [
        "url3_2 = \"https://sgulyano.github.io/eval/26742703.html\"\n",
        "r3_2 = requests.get(url3_2)\n",
        "soup3_2 = BeautifulSoup(r3_2.content, \"html.parser\")"
      ],
      "metadata": {
        "id": "5w8IDgGLe43V"
      },
      "execution_count": null,
      "outputs": []
    },
    {
      "cell_type": "code",
      "source": [
        "url4_2 = \"https://sgulyano.github.io/eval/33561138.html\"\n",
        "r4_2 = requests.get(url4_2)\n",
        "soup4_2 = BeautifulSoup(r4_2.content, \"html.parser\")"
      ],
      "metadata": {
        "id": "vz9QPM-kmIeu"
      },
      "execution_count": null,
      "outputs": []
    },
    {
      "cell_type": "code",
      "source": [
        "url5_2 = \"https://sgulyano.github.io/eval/51435303.html\"\n",
        "r5_2 = requests.get(url5_2)\n",
        "soup5_2 = BeautifulSoup(r5_2.content, \"html.parser\")"
      ],
      "metadata": {
        "id": "_23xvaGLnPSQ"
      },
      "execution_count": null,
      "outputs": []
    },
    {
      "cell_type": "code",
      "source": [
        "url6_2 = \"https://sgulyano.github.io/eval/33565025.html\"\n",
        "r6_2 = requests.get(url6_2)\n",
        "soup6_2 = BeautifulSoup(r6_2.content, \"html.parser\")"
      ],
      "metadata": {
        "id": "SfGdTZjIn2xb"
      },
      "execution_count": null,
      "outputs": []
    },
    {
      "cell_type": "code",
      "source": [
        "url7_2 = \"https://sgulyano.github.io/eval/60189297.html\"\n",
        "r7_2 = requests.get(url4_2)\n",
        "soup7_2 = BeautifulSoup(r4_2.content, \"html.parser\")"
      ],
      "metadata": {
        "id": "1zSQuNpio6mx"
      },
      "execution_count": null,
      "outputs": []
    },
    {
      "cell_type": "code",
      "source": [
        "url1_3 = \"https://sgulyano.github.io/eval/02226005.html\"\n",
        "r1_3 = requests.get(url1_3)\n",
        "soup1_3 = BeautifulSoup(r1_3.content, \"html.parser\")"
      ],
      "metadata": {
        "id": "xoSforFKzg4x"
      },
      "execution_count": null,
      "outputs": []
    },
    {
      "cell_type": "code",
      "source": [
        "url2_3 = \"https://sgulyano.github.io/eval/24363682.html\"\n",
        "r2_3 = requests.get(url2_3)\n",
        "soup2_3 = BeautifulSoup(r2_3.content, \"html.parser\")"
      ],
      "metadata": {
        "id": "pY9RIMqf0Y3C"
      },
      "execution_count": null,
      "outputs": []
    },
    {
      "cell_type": "code",
      "source": [
        "url3_3 = \"https://sgulyano.github.io/eval/44868136.html\"\n",
        "r3_3 = requests.get(url3_3)\n",
        "soup3_3 = BeautifulSoup(r3_3.content, \"html.parser\")"
      ],
      "metadata": {
        "id": "Wo0hWQGQ08em"
      },
      "execution_count": null,
      "outputs": []
    },
    {
      "cell_type": "code",
      "source": [
        "url4_3 = \"https://sgulyano.github.io/eval/79550445.html\"\n",
        "r4_3 = requests.get(url4_3)\n",
        "soup4_3 = BeautifulSoup(r4_3.content, \"html.parser\")"
      ],
      "metadata": {
        "id": "UXLRZjlOb2J2"
      },
      "execution_count": null,
      "outputs": []
    },
    {
      "cell_type": "code",
      "source": [
        "url1_4 = \"https://sgulyano.github.io/eval/33561138.html\"\n",
        "r1_4 = requests.get(url1_4)\n",
        "soup1_4 = BeautifulSoup(r1_4.content, \"html.parser\")"
      ],
      "metadata": {
        "id": "BRsN79ECAvVq"
      },
      "execution_count": null,
      "outputs": []
    },
    {
      "cell_type": "code",
      "source": [
        "url2_4 = \"https://sgulyano.github.io/eval/83255004.html\"\n",
        "r2_4 = requests.get(url2_4)\n",
        "soup2_4 = BeautifulSoup(r2_4.content, \"html.parser\")"
      ],
      "metadata": {
        "id": "AiA-fj95A26l"
      },
      "execution_count": null,
      "outputs": []
    },
    {
      "cell_type": "code",
      "source": [
        "url1_5 = \"https://sgulyano.github.io/eval/41557226.html\"\n",
        "r1_5 = requests.get(url1_5)\n",
        "soup1_5 = BeautifulSoup(r1_5.content, \"html.parser\")"
      ],
      "metadata": {
        "id": "1hpH7Jt5klIk"
      },
      "execution_count": null,
      "outputs": []
    },
    {
      "cell_type": "code",
      "source": [
        "url2_5 = \"https://sgulyano.github.io/eval/48033334.html\"\n",
        "r2_5 = requests.get(url2_5)\n",
        "soup2_5 = BeautifulSoup(r2_5.content, \"html.parser\")"
      ],
      "metadata": {
        "id": "rtUueyjkk3FS"
      },
      "execution_count": null,
      "outputs": []
    },
    {
      "cell_type": "code",
      "source": [
        "url3_5 = \"https://sgulyano.github.io/eval/51435303.html\"\n",
        "r3_5 = requests.get(url3_5)\n",
        "soup3_5 = BeautifulSoup(r3_5.content, \"html.parser\")"
      ],
      "metadata": {
        "id": "KUwzCPnFlB1J"
      },
      "execution_count": null,
      "outputs": []
    },
    {
      "cell_type": "code",
      "source": [
        "url1_6 = \"https://sgulyano.github.io/eval/61116032.html\"\n",
        "r1_6 = requests.get(url1_6)\n",
        "soup1_6 = BeautifulSoup(r1_6.content, \"html.parser\")"
      ],
      "metadata": {
        "id": "qbLy8RxSqKOr"
      },
      "execution_count": null,
      "outputs": []
    },
    {
      "cell_type": "code",
      "source": [
        "url2_6 = \"https://sgulyano.github.io/eval/33472214.html\"\n",
        "r2_6 = requests.get(url2_6)\n",
        "soup2_6 = BeautifulSoup(r2_6.content, \"html.parser\")"
      ],
      "metadata": {
        "id": "-SiilS31qrKU"
      },
      "execution_count": null,
      "outputs": []
    },
    {
      "cell_type": "code",
      "source": [
        "url3_6 = \"https://sgulyano.github.io/eval/24674969.html\"\n",
        "r3_6 = requests.get(url3_6)\n",
        "soup3_6 = BeautifulSoup(r3_6.content, \"html.parser\")"
      ],
      "metadata": {
        "id": "3tnGCwj7rBJ9"
      },
      "execution_count": null,
      "outputs": []
    },
    {
      "cell_type": "code",
      "source": [
        "url1_7 = \"https://sgulyano.github.io/eval/19689783.html\"\n",
        "r1_7 = requests.get(url1_7)\n",
        "soup1_7 = BeautifulSoup(r1_7.content, \"html.parser\")"
      ],
      "metadata": {
        "id": "fwiU0rW5zIrX"
      },
      "execution_count": null,
      "outputs": []
    },
    {
      "cell_type": "code",
      "source": [
        "url2_7 = \"https://sgulyano.github.io/eval/95860997.html\"\n",
        "r2_7 = requests.get(url2_7)\n",
        "soup2_7 = BeautifulSoup(r2_7.content, \"html.parser\")"
      ],
      "metadata": {
        "id": "A4x3L9kdzZuG"
      },
      "execution_count": null,
      "outputs": []
    },
    {
      "cell_type": "code",
      "source": [
        "url3_7 = \"https://sgulyano.github.io/eval/96905621.html\"\n",
        "r3_7 = requests.get(url3_7)\n",
        "soup3_7 = BeautifulSoup(r3_7.content, \"html.parser\")"
      ],
      "metadata": {
        "id": "o0QRe4rlzjKq"
      },
      "execution_count": null,
      "outputs": []
    },
    {
      "cell_type": "code",
      "source": [
        "url4_7 = \"https://sgulyano.github.io/eval/94026030.html\"\n",
        "r4_7 = requests.get(url4_7)\n",
        "soup4_7 = BeautifulSoup(r4_7.content, \"html.parser\")"
      ],
      "metadata": {
        "id": "FX5NWnEoz0s9"
      },
      "execution_count": null,
      "outputs": []
    },
    {
      "cell_type": "code",
      "source": [
        "url5_7 = \"https://sgulyano.github.io/eval/44868136.html\"\n",
        "r5_7 = requests.get(url5_7)\n",
        "soup5_7 = BeautifulSoup(r5_7.content, \"html.parser\")"
      ],
      "metadata": {
        "id": "S29s8Z_q0DPx"
      },
      "execution_count": null,
      "outputs": []
    },
    {
      "cell_type": "code",
      "source": [
        "url6_7 = \"https://sgulyano.github.io/eval/08846113.html\"\n",
        "r6_7 = requests.get(url6_7)\n",
        "soup6_7 = BeautifulSoup(r6_7.content, \"html.parser\")"
      ],
      "metadata": {
        "id": "mnPtkbiZ0Q_L"
      },
      "execution_count": null,
      "outputs": []
    },
    {
      "cell_type": "code",
      "source": [
        "url7_7 = \"https://sgulyano.github.io/eval/53231654.html\"\n",
        "r7_7 = requests.get(url7_7)\n",
        "soup7_7 = BeautifulSoup(r7_7.content, \"html.parser\")"
      ],
      "metadata": {
        "id": "lBrRiODE0gwp"
      },
      "execution_count": null,
      "outputs": []
    },
    {
      "cell_type": "code",
      "source": [
        "url8_7 = \"https://sgulyano.github.io/eval/43951333.html\"\n",
        "r8_7 = requests.get(url8_7)\n",
        "soup8_7 = BeautifulSoup(r8_7.content, \"html.parser\")"
      ],
      "metadata": {
        "id": "bnxI5rDU0t36"
      },
      "execution_count": null,
      "outputs": []
    },
    {
      "cell_type": "code",
      "source": [
        "url9_7 = \"https://sgulyano.github.io/eval/71728345.html\"\n",
        "r9_7 = requests.get(url9_7)\n",
        "soup9_7 = BeautifulSoup(r9_7.content, \"html.parser\")"
      ],
      "metadata": {
        "id": "v-AxiGLJ07wU"
      },
      "execution_count": null,
      "outputs": []
    },
    {
      "cell_type": "code",
      "source": [
        "url10_7 = \"https://sgulyano.github.io/eval/83255004.html\"\n",
        "r10_7 = requests.get(url10_7)\n",
        "soup10_7 = BeautifulSoup(r10_7.content, \"html.parser\")"
      ],
      "metadata": {
        "id": "CknOPUxM1Kz0"
      },
      "execution_count": null,
      "outputs": []
    },
    {
      "cell_type": "markdown",
      "source": [
        "ข้อมูลถูกจัดเก็บในตาราง"
      ],
      "metadata": {
        "id": "-Ujb940GJjP9"
      }
    },
    {
      "cell_type": "code",
      "source": [
        "tables1_1 = soup1_1.find_all(\"table\")"
      ],
      "metadata": {
        "id": "OtAvx-mqfnzQ"
      },
      "execution_count": null,
      "outputs": []
    },
    {
      "cell_type": "code",
      "source": [
        "tables2_1 = soup2_1.find_all(\"table\")"
      ],
      "metadata": {
        "id": "DY6OLgZMSLEw"
      },
      "execution_count": null,
      "outputs": []
    },
    {
      "cell_type": "code",
      "source": [
        "tables3_1 = soup3_1.find_all(\"table\")"
      ],
      "metadata": {
        "id": "M2qc9jAPT53D"
      },
      "execution_count": null,
      "outputs": []
    },
    {
      "cell_type": "code",
      "source": [
        "tables4_1 = soup4_1.find_all(\"table\")"
      ],
      "metadata": {
        "id": "uc3w_2JtUkS4"
      },
      "execution_count": null,
      "outputs": []
    },
    {
      "cell_type": "code",
      "source": [
        "tables1_2 = soup1_2.find_all(\"table\")"
      ],
      "metadata": {
        "id": "WXFEasF0cPH2"
      },
      "execution_count": null,
      "outputs": []
    },
    {
      "cell_type": "code",
      "source": [
        "tables2_2 = soup2_2.find_all(\"table\")"
      ],
      "metadata": {
        "id": "VrYAz7IYd3Uq"
      },
      "execution_count": null,
      "outputs": []
    },
    {
      "cell_type": "code",
      "source": [
        "tables3_2 = soup3_2.find_all(\"table\")"
      ],
      "metadata": {
        "id": "YcQ7b0atpZZu"
      },
      "execution_count": null,
      "outputs": []
    },
    {
      "cell_type": "code",
      "source": [
        "tables4_2 = soup4_2.find_all(\"table\")"
      ],
      "metadata": {
        "id": "Lp8OmWkTqqsz"
      },
      "execution_count": null,
      "outputs": []
    },
    {
      "cell_type": "code",
      "source": [
        "tables5_2 = soup5_2.find_all(\"table\")"
      ],
      "metadata": {
        "id": "_aBDUJUQqtqT"
      },
      "execution_count": null,
      "outputs": []
    },
    {
      "cell_type": "code",
      "source": [
        "tables6_2 = soup6_2.find_all(\"table\")"
      ],
      "metadata": {
        "id": "liheW8uZqwqE"
      },
      "execution_count": null,
      "outputs": []
    },
    {
      "cell_type": "code",
      "source": [
        "tables7_2 = soup7_2.find_all(\"table\")"
      ],
      "metadata": {
        "id": "DW60XPAmqzKE"
      },
      "execution_count": null,
      "outputs": []
    },
    {
      "cell_type": "code",
      "source": [
        "tables1_3 = soup1_3.find_all(\"table\")"
      ],
      "metadata": {
        "id": "92PhcluI0mTX"
      },
      "execution_count": null,
      "outputs": []
    },
    {
      "cell_type": "code",
      "source": [
        "tables2_3 = soup2_3.find_all(\"table\")"
      ],
      "metadata": {
        "id": "y0BkoOsk0x-L"
      },
      "execution_count": null,
      "outputs": []
    },
    {
      "cell_type": "code",
      "source": [
        "tables3_3 = soup3_3.find_all(\"table\")"
      ],
      "metadata": {
        "id": "Rd99Rrgl03Tn"
      },
      "execution_count": null,
      "outputs": []
    },
    {
      "cell_type": "code",
      "source": [
        "tables4_3 = soup4_3.find_all(\"table\")"
      ],
      "metadata": {
        "id": "SewJ2GBle4tX"
      },
      "execution_count": null,
      "outputs": []
    },
    {
      "cell_type": "code",
      "source": [
        "tables1_4 = soup1_4.find_all(\"table\")"
      ],
      "metadata": {
        "id": "0AVMh2XPBAzs"
      },
      "execution_count": null,
      "outputs": []
    },
    {
      "cell_type": "code",
      "source": [
        "tables2_4 = soup2_4.find_all(\"table\")"
      ],
      "metadata": {
        "id": "3gWzljQiBEZc"
      },
      "execution_count": null,
      "outputs": []
    },
    {
      "cell_type": "code",
      "source": [
        "tables1_5 = soup1_5.find_all(\"table\")"
      ],
      "metadata": {
        "id": "Y6P_txKElL_H"
      },
      "execution_count": null,
      "outputs": []
    },
    {
      "cell_type": "code",
      "source": [
        "tables2_5 = soup2_5.find_all(\"table\")"
      ],
      "metadata": {
        "id": "kEncyYrZlQSX"
      },
      "execution_count": null,
      "outputs": []
    },
    {
      "cell_type": "code",
      "source": [
        "tables3_5 = soup3_5.find_all(\"table\")"
      ],
      "metadata": {
        "id": "KjemUxvRlT1A"
      },
      "execution_count": null,
      "outputs": []
    },
    {
      "cell_type": "code",
      "source": [
        "tables1_6 = soup1_6.find_all(\"table\")"
      ],
      "metadata": {
        "id": "m1anwOf2ridF"
      },
      "execution_count": null,
      "outputs": []
    },
    {
      "cell_type": "code",
      "source": [
        "tables2_6 = soup2_6.find_all(\"table\")"
      ],
      "metadata": {
        "id": "K2PK9PW8riqX"
      },
      "execution_count": null,
      "outputs": []
    },
    {
      "cell_type": "code",
      "source": [
        "tables3_6 = soup3_6.find_all(\"table\")"
      ],
      "metadata": {
        "id": "nqT_u7Jzriyt"
      },
      "execution_count": null,
      "outputs": []
    },
    {
      "cell_type": "code",
      "source": [
        "tables1_7 = soup1_7.find_all(\"table\")"
      ],
      "metadata": {
        "id": "VTTpf2XR1YTr"
      },
      "execution_count": null,
      "outputs": []
    },
    {
      "cell_type": "code",
      "source": [
        "tables2_7 = soup2_7.find_all(\"table\")"
      ],
      "metadata": {
        "id": "7Sr7ILm11Yx4"
      },
      "execution_count": null,
      "outputs": []
    },
    {
      "cell_type": "code",
      "source": [
        "tables3_7 = soup3_7.find_all(\"table\")"
      ],
      "metadata": {
        "id": "XZv3IwaV1Y85"
      },
      "execution_count": null,
      "outputs": []
    },
    {
      "cell_type": "code",
      "source": [
        "tables4_7 = soup4_7.find_all(\"table\")"
      ],
      "metadata": {
        "id": "hHvrtcLj1ZHW"
      },
      "execution_count": null,
      "outputs": []
    },
    {
      "cell_type": "code",
      "source": [
        "tables5_7 = soup5_7.find_all(\"table\")"
      ],
      "metadata": {
        "id": "vnvwMzmd1ZSO"
      },
      "execution_count": null,
      "outputs": []
    },
    {
      "cell_type": "code",
      "source": [
        "tables6_7 = soup6_7.find_all(\"table\")"
      ],
      "metadata": {
        "id": "lmDgX3OQ1Zf6"
      },
      "execution_count": null,
      "outputs": []
    },
    {
      "cell_type": "code",
      "source": [
        "tables7_7 = soup7_7.find_all(\"table\")"
      ],
      "metadata": {
        "id": "ZlFM0tVF1Zpy"
      },
      "execution_count": null,
      "outputs": []
    },
    {
      "cell_type": "code",
      "source": [
        "tables8_7 = soup8_7.find_all(\"table\")"
      ],
      "metadata": {
        "id": "7pFt3Q-_1Z0H"
      },
      "execution_count": null,
      "outputs": []
    },
    {
      "cell_type": "code",
      "source": [
        "tables9_7 = soup9_7.find_all(\"table\")"
      ],
      "metadata": {
        "id": "aRrMqEN11Z9o"
      },
      "execution_count": null,
      "outputs": []
    },
    {
      "cell_type": "code",
      "source": [
        "tables10_7 = soup10_7.find_all(\"table\")"
      ],
      "metadata": {
        "id": "sOFQ1BCu1aGK"
      },
      "execution_count": null,
      "outputs": []
    },
    {
      "cell_type": "markdown",
      "source": [
        "## 2.การดึงข้อมูล\n",
        "เราทำการสร้างฟังก์ชันเพื่อดึงข้อมูลจากตาราง โดยใน HTML ข้อมูลในตารางจะมีลักษณะดังนี้\n",
        "\n",
        "1.เนื้อหาในตารางจะอยู่ใน tag `tbody`                                             \n",
        "2.ข้อมูลแต่ละแถวจะอยู่ใน tag `tr`                                                \n",
        " 3.ข้อมูลแต่ละคอลัมน์อยู่ใน tag `td`"
      ],
      "metadata": {
        "id": "dsZoAjj6J2Vc"
      }
    },
    {
      "cell_type": "code",
      "source": [
        "def get_table_data(item):\n",
        "    data = []\n",
        "    table_body = item.find('tbody')\n",
        "    rows = table_body.find_all('tr')\n",
        "    for row in rows:\n",
        "        cols = row.find_all('td')\n",
        "        cols = [ele.text.strip() for ele in cols]\n",
        "        data.append([ele for ele in cols if ele])\n",
        "    return data"
      ],
      "metadata": {
        "id": "84rpj_ZDgMZE"
      },
      "execution_count": null,
      "outputs": []
    },
    {
      "cell_type": "markdown",
      "source": [
        "ใน Python มี Library สำหรับทำ data visualization ชื่อว่า pandas, matplotlib และnumpy"
      ],
      "metadata": {
        "id": "QswS6V-zKjo7"
      }
    },
    {
      "cell_type": "code",
      "source": [
        "import pandas as pd\n",
        "import matplotlib as plt\n",
        "import matplotlib.pyplot as plt\n",
        "import numpy as np\n",
        "from decimal import Decimal, ROUND_HALF_UP"
      ],
      "metadata": {
        "id": "nM5vS_3Lg2x3"
      },
      "execution_count": null,
      "outputs": []
    },
    {
      "cell_type": "markdown",
      "source": [
        "## 3.สร้างกราฟ"
      ],
      "metadata": {
        "id": "c9vAljPSjRMO"
      }
    },
    {
      "cell_type": "markdown",
      "source": [
        "3.1 กราฟที่ 1\n",
        "ใช้ฟังก์ชัน `find_all` เพื่อนำ tag ที่เราต้องการมาเก็บไว้ใน `list` ใช้ `for loop` และ `if statement` เพื่อเลือกข้อมูลที่เราต้องการ"
      ],
      "metadata": {
        "id": "WaWz4hdIjgyk"
      }
    },
    {
      "cell_type": "code",
      "source": [
        "table_data1_1 = get_table_data(tables1_1[2])\n",
        "\n",
        "for i in table_data1_1[26:30]:\n",
        "    if len(i) == 16:\n",
        "        print(i[-2])"
      ],
      "metadata": {
        "colab": {
          "base_uri": "https://localhost:8080/"
        },
        "id": "lHqHUOylg_s3",
        "outputId": "9ac29fdd-8226-48ad-a496-7948e201e1e0"
      },
      "execution_count": null,
      "outputs": [
        {
          "output_type": "stream",
          "name": "stdout",
          "text": [
            "3.33\n",
            "3.17\n",
            "4.00\n",
            "4.50\n"
          ]
        }
      ]
    },
    {
      "cell_type": "markdown",
      "source": [
        "หาค่า mean โดยใช้ library numpy และปัดเศษทศนิยม 2 ตำแหน่ง โดยใช้ class decimal"
      ],
      "metadata": {
        "id": "iKjKlXJ_l_te"
      }
    },
    {
      "cell_type": "code",
      "source": [
        "d1_1 = [3.33, 3.17, 4.00, 4.50]\n",
        "mean1_1 = Decimal(np.mean(d1_1)).quantize(Decimal('0.01'), rounding=ROUND_HALF_UP)\n",
        "print(mean1_1)"
      ],
      "metadata": {
        "colab": {
          "base_uri": "https://localhost:8080/"
        },
        "id": "jx_xQC6FQYu0",
        "outputId": "adb6e119-300c-4397-c4cd-fb980e4ae2f0"
      },
      "execution_count": null,
      "outputs": [
        {
          "output_type": "stream",
          "name": "stdout",
          "text": [
            "3.75\n"
          ]
        }
      ]
    },
    {
      "cell_type": "markdown",
      "source": [
        "ใช้ฟังก์ชัน `find_all` เพื่อนำ tag ที่เราต้องการมาเก็บไว้ใน `list` ใช้ `for loop` และ `if statement` เพื่อเลือกข้อมูลที่เราต้องการ"
      ],
      "metadata": {
        "id": "fjD_U689oFCW"
      }
    },
    {
      "cell_type": "code",
      "source": [
        "table_data2_1 = get_table_data(tables2_1[2])\n",
        "\n",
        "for i in table_data2_1[13:19]:\n",
        "    if len(i) == 16:\n",
        "        print(i[-2])"
      ],
      "metadata": {
        "colab": {
          "base_uri": "https://localhost:8080/"
        },
        "id": "KhOf16U7Sbnl",
        "outputId": "538ac621-475c-4f93-f36f-8e027071461e"
      },
      "execution_count": null,
      "outputs": [
        {
          "output_type": "stream",
          "name": "stdout",
          "text": [
            "4.30\n",
            "4.04\n",
            "4.26\n",
            "4.37\n"
          ]
        }
      ]
    },
    {
      "cell_type": "markdown",
      "source": [
        "หาค่า mean โดยใช้ library numpy และปัดเศษทศนิยม 2 ตำแหน่ง โดยใช้ class decimal"
      ],
      "metadata": {
        "id": "DQX56x5roJC6"
      }
    },
    {
      "cell_type": "code",
      "source": [
        "d2_1 = [4.30, 4.04, 4.26, 4.37]\n",
        "mean2_1 = Decimal(np.mean(d2_1)).quantize(Decimal('0.01'), rounding=ROUND_HALF_UP)\n",
        "print(mean2_1)"
      ],
      "metadata": {
        "colab": {
          "base_uri": "https://localhost:8080/"
        },
        "id": "FFiFbxW1Swx3",
        "outputId": "0b4e0a90-aa74-4a7b-f3ec-6eabe42dbf5f"
      },
      "execution_count": null,
      "outputs": [
        {
          "output_type": "stream",
          "name": "stdout",
          "text": [
            "4.24\n"
          ]
        }
      ]
    },
    {
      "cell_type": "markdown",
      "source": [
        "ใช้ฟังก์ชัน `find_all` เพื่อนำ tag ที่เราต้องการมาเก็บไว้ใน `list` ใช้ `for loop` และ `if statement` เพื่อเลือกข้อมูลที่เราต้องการ"
      ],
      "metadata": {
        "id": "deThJhIjoTSl"
      }
    },
    {
      "cell_type": "code",
      "source": [
        "table_data3_1 = get_table_data(tables3_1[2])\n",
        "\n",
        "for i in table_data3_1[26:30]:\n",
        "    if len(i) == 16:\n",
        "        print(i[-2])"
      ],
      "metadata": {
        "colab": {
          "base_uri": "https://localhost:8080/"
        },
        "id": "wnO7u-MyT_OX",
        "outputId": "fdb45336-5665-4a18-84f0-7795374deb3e"
      },
      "execution_count": null,
      "outputs": [
        {
          "output_type": "stream",
          "name": "stdout",
          "text": [
            "4.25\n",
            "3.92\n",
            "3.50\n",
            "4.25\n"
          ]
        }
      ]
    },
    {
      "cell_type": "markdown",
      "source": [
        "หาค่า mean โดยใช้ library numpy และปัดเศษทศนิยม 2 ตำแหน่ง โดยใช้ class decimal"
      ],
      "metadata": {
        "id": "1gTtYliYoLXT"
      }
    },
    {
      "cell_type": "code",
      "source": [
        "d3_1 = [4.25, 3.92, 3.50, 4.25]\n",
        "mean3_1 = Decimal(np.mean(d3_1)).quantize(Decimal('0.01'), rounding=ROUND_HALF_UP)\n",
        "print(mean3_1)"
      ],
      "metadata": {
        "colab": {
          "base_uri": "https://localhost:8080/"
        },
        "id": "ETxvRovpUF_R",
        "outputId": "afb732ef-9118-4ce1-b4e0-8b64fc55096e"
      },
      "execution_count": null,
      "outputs": [
        {
          "output_type": "stream",
          "name": "stdout",
          "text": [
            "3.98\n"
          ]
        }
      ]
    },
    {
      "cell_type": "markdown",
      "source": [
        "ใช้ฟังก์ชัน `find_all` เพื่อนำ tag ที่เราต้องการมาเก็บไว้ใน `list` ใช้ `for loop` และ `if statement` เพื่อเลือกข้อมูลที่เราต้องการ"
      ],
      "metadata": {
        "id": "W1QLbw5EoVBo"
      }
    },
    {
      "cell_type": "code",
      "source": [
        "table_data4_1 = get_table_data(tables4_1[2])\n",
        "\n",
        "for i in table_data4_1[26:30]:\n",
        "    if len(i) == 16:\n",
        "        print(i[-2])"
      ],
      "metadata": {
        "colab": {
          "base_uri": "https://localhost:8080/"
        },
        "id": "tLG-2o7hUoup",
        "outputId": "b68a6b4c-6df0-4a4e-8561-e87e251c0c10"
      },
      "execution_count": null,
      "outputs": [
        {
          "output_type": "stream",
          "name": "stdout",
          "text": [
            "3.83\n",
            "3.50\n",
            "3.50\n",
            "3.67\n"
          ]
        }
      ]
    },
    {
      "cell_type": "markdown",
      "source": [
        "หาค่า mean โดยใช้ library numpy และปัดเศษทศนิยม 2 ตำแหน่ง โดยใช้ class decimal"
      ],
      "metadata": {
        "id": "LQJiCP2moN9i"
      }
    },
    {
      "cell_type": "code",
      "source": [
        "d4_1 = [3.83, 3.50, 3.50, 3.67]\n",
        "mean4_1 = Decimal(np.mean(d4_1)).quantize(Decimal('0.01'), rounding=ROUND_HALF_UP)\n",
        "print(mean4_1)"
      ],
      "metadata": {
        "colab": {
          "base_uri": "https://localhost:8080/"
        },
        "id": "sv011RUOU4m2",
        "outputId": "b413ba42-4775-47cd-e5bd-4b087d159b73"
      },
      "execution_count": null,
      "outputs": [
        {
          "output_type": "stream",
          "name": "stdout",
          "text": [
            "3.63\n"
          ]
        }
      ]
    },
    {
      "cell_type": "markdown",
      "source": [
        "สร้างกราฟ โดยใช้ library matplotlib"
      ],
      "metadata": {
        "id": "iko4mFPDoh30"
      }
    },
    {
      "cell_type": "code",
      "source": [
        "#กำหนดข้อมูลแกน y แกน x และlabels ไว้ใน list\n",
        "x = [\"FGL497\", \"RMW014\", \"YRY790\", \"DHT256\"]\n",
        "y = [3.75, 4.24, 3.98, 3.63]\n",
        "labels = [\"3.75\", \"4.24\", \"3.98\", \"3.63\"]\n",
        "\n",
        "fig, ax = plt.subplots()\n",
        "\n",
        "#กำหนดลักษณะแท่งกราฟ\n",
        "bar_width = 0.65\n",
        "bars = ax.bar(x, y, width=bar_width, edgecolor=\"white\", linewidth=0.7, color='#B52200')\n",
        "\n",
        "ax.set(xlim=(-1, len(x)), xticks=range(len(x)),\n",
        "       ylim=(0, 5), yticks=np.arange(0.5, 5.5, 0.5))\n",
        "\n",
        "#กำหนดตัวแปร\n",
        "plt.xlabel(\"subject\")\n",
        "plt.ylabel(\"score\")\n",
        "plt.title(\"Mean of satisfaction about environment and learning support in 2562 (Part 3)\")\n",
        "\n",
        "#กำหนดขนาด\n",
        "fig.set_size_inches(5, 5)\n",
        "\n",
        "#ทำให้มีตัวเลขปรากฎอยู่บนแท่งกราฟ\n",
        "for bar, label in zip(bars, labels):\n",
        "    yval = bar.get_height()\n",
        "    plt.text(bar.get_x() + bar.get_width() / 2, yval, label,\n",
        "             va='bottom', ha='center', fontsize=10, color='black')\n",
        "\n",
        "plt.show()"
      ],
      "metadata": {
        "colab": {
          "base_uri": "https://localhost:8080/",
          "height": 587
        },
        "id": "QjwEHp1YQUV0",
        "outputId": "362956ec-b7ff-40e3-83e9-d749e09fddcf"
      },
      "execution_count": null,
      "outputs": [
        {
          "output_type": "display_data",
          "data": {
            "text/plain": [
              "<Figure size 500x500 with 1 Axes>"
            ],
            "image/png": "[encoded data removed]"
          },
          "metadata": {}
        }
      ]
    },
    {
      "cell_type": "markdown",
      "source": [
        "ใช้ฟังก์ชัน find_all เพื่อนำ tag ที่เราต้องการมาเก็บไว้ใน list ใช้ for loop และ if statement เพื่อเลือกข้อมูลที่เราต้องการ"
      ],
      "metadata": {
        "id": "VQTSrpT8rGBj"
      }
    },
    {
      "cell_type": "code",
      "source": [
        "table_data1_2 = get_table_data(tables1_2[2])\n",
        "\n",
        "for i in table_data1_2[4:12]:\n",
        "    if len(i) == 16:\n",
        "        print(i[-2])"
      ],
      "metadata": {
        "colab": {
          "base_uri": "https://localhost:8080/"
        },
        "id": "ZBmC4QwAbkQp",
        "outputId": "4a7fc218-4fc8-4fa1-83b9-69d5f1cd4f1f"
      },
      "execution_count": null,
      "outputs": [
        {
          "output_type": "stream",
          "name": "stdout",
          "text": [
            "4.63\n",
            "4.45\n",
            "4.48\n",
            "4.03\n",
            "4.43\n",
            "4.00\n",
            "4.25\n",
            "4.44\n"
          ]
        }
      ]
    },
    {
      "cell_type": "markdown",
      "source": [
        "หาค่า mean โดยใช้ library numpy และปัดเศษทศนิยม 2 ตำแหน่ง โดยใช้ class decimal"
      ],
      "metadata": {
        "id": "Wqgahc2UrQ_d"
      }
    },
    {
      "cell_type": "code",
      "source": [
        "d1_2 = [4.63, 4.45, 4.48, 4.03, 4.43, 4.00, 4.25, 4.44]\n",
        "mean1_2 = Decimal(np.mean(d1_2)).quantize(Decimal('0.01'), rounding=ROUND_HALF_UP)\n",
        "print(mean1_2)"
      ],
      "metadata": {
        "colab": {
          "base_uri": "https://localhost:8080/"
        },
        "id": "5UCm_GXGdFu-",
        "outputId": "e680b038-ab91-4616-c0dc-a1c59c28f38a"
      },
      "execution_count": null,
      "outputs": [
        {
          "output_type": "stream",
          "name": "stdout",
          "text": [
            "4.34\n"
          ]
        }
      ]
    },
    {
      "cell_type": "markdown",
      "source": [
        "ใช้ฟังก์ชัน find_all เพื่อนำ tag ที่เราต้องการมาเก็บไว้ใน list ใช้ for loop และ if statement เพื่อเลือกข้อมูลที่เราต้องการ"
      ],
      "metadata": {
        "id": "oeb1uPSFrVr8"
      }
    },
    {
      "cell_type": "code",
      "source": [
        "table_data2_2 = get_table_data(tables2_2[2])\n",
        "\n",
        "for i in table_data2_2[4:12]:\n",
        "    if len(i) == 16:\n",
        "        print(i[-2])"
      ],
      "metadata": {
        "colab": {
          "base_uri": "https://localhost:8080/"
        },
        "id": "0eYLSlFTd_or",
        "outputId": "81ccef39-1cb1-41c4-8725-4a2a6fe114cd"
      },
      "execution_count": null,
      "outputs": [
        {
          "output_type": "stream",
          "name": "stdout",
          "text": [
            "4.64\n",
            "4.62\n",
            "4.53\n",
            "4.19\n",
            "4.51\n",
            "4.15\n",
            "4.25\n",
            "4.51\n"
          ]
        }
      ]
    },
    {
      "cell_type": "markdown",
      "source": [
        "หาค่า mean โดยใช้ library numpy และปัดเศษทศนิยม 2 ตำแหน่ง โดยใช้ class decimal"
      ],
      "metadata": {
        "id": "Eyp3dhmhrYMG"
      }
    },
    {
      "cell_type": "code",
      "source": [
        "d2_2 = [4.64, 4.62, 4.53, 4.19, 4.51, 4.15, 4.25, 4.51]\n",
        "mean2_2 = Decimal(np.mean(d2_2)).quantize(Decimal('0.01'), rounding=ROUND_HALF_UP)\n",
        "print(mean2_2)"
      ],
      "metadata": {
        "colab": {
          "base_uri": "https://localhost:8080/"
        },
        "id": "lX9Zwu-reEYu",
        "outputId": "fd708a94-3fa8-4c2c-cd92-91ff76f2c06c"
      },
      "execution_count": null,
      "outputs": [
        {
          "output_type": "stream",
          "name": "stdout",
          "text": [
            "4.43\n"
          ]
        }
      ]
    },
    {
      "cell_type": "markdown",
      "source": [
        "ใช้ฟังก์ชัน find_all เพื่อนำ tag ที่เราต้องการมาเก็บไว้ใน list ใช้ for loop และ if statement เพื่อเลือกข้อมูลที่เราต้องการ"
      ],
      "metadata": {
        "id": "ZSa3HYKfrr4u"
      }
    },
    {
      "cell_type": "code",
      "source": [
        "table_data3_2 = get_table_data(tables3_2[2])\n",
        "\n",
        "for i in table_data3_2[4:12]:\n",
        "    if len(i) == 16:\n",
        "        print(i[-2])"
      ],
      "metadata": {
        "id": "1e6SlYwUpiRg",
        "colab": {
          "base_uri": "https://localhost:8080/"
        },
        "outputId": "9c763ca6-de19-4bb0-86d9-99f34378bbe9"
      },
      "execution_count": null,
      "outputs": [
        {
          "output_type": "stream",
          "name": "stdout",
          "text": [
            "4.86\n",
            "4.79\n",
            "4.71\n",
            "4.79\n",
            "4.93\n",
            "4.71\n",
            "4.71\n",
            "4.71\n"
          ]
        }
      ]
    },
    {
      "cell_type": "markdown",
      "source": [
        "หาค่า mean โดยใช้ library numpy และปัดเศษทศนิยม 2 ตำแหน่ง โดยใช้ class decimal"
      ],
      "metadata": {
        "id": "3RdxH7wXrzaQ"
      }
    },
    {
      "cell_type": "code",
      "source": [
        "d3_2 = [4.86, 4.79, 4.71, 4.79, 4.93, 4.71, 4.71, 4.71]\n",
        "mean3_2 = Decimal(np.mean(d3_2)).quantize(Decimal('0.01'), rounding=ROUND_HALF_UP)\n",
        "print(mean3_2)"
      ],
      "metadata": {
        "colab": {
          "base_uri": "https://localhost:8080/"
        },
        "id": "9KMGgkhCqIgB",
        "outputId": "ccf25573-a41b-41e8-d269-837e8de0e4cd"
      },
      "execution_count": null,
      "outputs": [
        {
          "output_type": "stream",
          "name": "stdout",
          "text": [
            "4.78\n"
          ]
        }
      ]
    },
    {
      "cell_type": "markdown",
      "source": [
        "ใช้ฟังก์ชัน find_all เพื่อนำ tag ที่เราต้องการมาเก็บไว้ใน list ใช้ for loop และ if statement เพื่อเลือกข้อมูลที่เราต้องการ"
      ],
      "metadata": {
        "id": "wvH0T7onsGXl"
      }
    },
    {
      "cell_type": "code",
      "source": [
        "table_data4_2 = get_table_data(tables4_2[2])\n",
        "\n",
        "for i in table_data4_2[4:12]:\n",
        "    if len(i) == 16:\n",
        "        print(i[-2])"
      ],
      "metadata": {
        "colab": {
          "base_uri": "https://localhost:8080/"
        },
        "id": "3SuZRu6wrOcJ",
        "outputId": "419dc42f-2374-487b-97ee-9008640be2b5"
      },
      "execution_count": null,
      "outputs": [
        {
          "output_type": "stream",
          "name": "stdout",
          "text": [
            "4.88\n",
            "4.79\n",
            "4.76\n",
            "4.67\n",
            "4.82\n",
            "4.61\n",
            "4.45\n",
            "4.67\n"
          ]
        }
      ]
    },
    {
      "cell_type": "markdown",
      "source": [
        "หาค่า mean โดยใช้ library numpy และปัดเศษทศนิยม 2 ตำแหน่ง โดยใช้ class decimal"
      ],
      "metadata": {
        "id": "c3RdHB_esMjt"
      }
    },
    {
      "cell_type": "markdown",
      "source": [],
      "metadata": {
        "id": "3RWHsy96sE_w"
      }
    },
    {
      "cell_type": "code",
      "source": [
        "d4_2 = [4.88, 4.79, 4.76, 4.67, 4.82, 4.61, 4.45, 4.67]\n",
        "mean4_2 = Decimal(np.mean(d4_2)).quantize(Decimal('0.01'), rounding=ROUND_HALF_UP)\n",
        "print(mean4_2)"
      ],
      "metadata": {
        "colab": {
          "base_uri": "https://localhost:8080/"
        },
        "id": "h1ETaDqGsMGm",
        "outputId": "9874d753-cf41-4183-d516-41096facefb8"
      },
      "execution_count": null,
      "outputs": [
        {
          "output_type": "stream",
          "name": "stdout",
          "text": [
            "4.71\n"
          ]
        }
      ]
    },
    {
      "cell_type": "markdown",
      "source": [
        "ใช้ฟังก์ชัน find_all เพื่อนำ tag ที่เราต้องการมาเก็บไว้ใน list ใช้ for loop และ if statement เพื่อเลือกข้อมูลที่เราต้องการ"
      ],
      "metadata": {
        "id": "onRG0ILYsRLL"
      }
    },
    {
      "cell_type": "code",
      "source": [
        "table_data5_2 = get_table_data(tables5_2[2])\n",
        "\n",
        "for i in table_data5_2[4:12]:\n",
        "    if len(i) == 16:\n",
        "        print(i[-2])"
      ],
      "metadata": {
        "colab": {
          "base_uri": "https://localhost:8080/"
        },
        "id": "oHnOgLDssq0B",
        "outputId": "2e14d5ae-bde6-40b6-de60-a78edeff0cc8"
      },
      "execution_count": null,
      "outputs": [
        {
          "output_type": "stream",
          "name": "stdout",
          "text": [
            "4.33\n",
            "4.24\n",
            "4.24\n",
            "3.97\n",
            "3.88\n",
            "3.64\n",
            "3.97\n",
            "4.03\n"
          ]
        }
      ]
    },
    {
      "cell_type": "markdown",
      "source": [
        "หาค่า mean โดยใช้ library numpy และปัดเศษทศนิยม 2 ตำแหน่ง โดยใช้ class decimal"
      ],
      "metadata": {
        "id": "sEHHd0S0sQce"
      }
    },
    {
      "cell_type": "code",
      "source": [
        "d5_2 = [4.33,4.24,4.24,3.97,3.88,3.64,3.97,4.03]\n",
        "mean5_2 = Decimal(np.mean(d5_2)).quantize(Decimal('0.01'), rounding=ROUND_HALF_UP)\n",
        "print(mean5_2)"
      ],
      "metadata": {
        "colab": {
          "base_uri": "https://localhost:8080/"
        },
        "id": "NWNiCv3Ss4rH",
        "outputId": "9b357763-d976-4c2c-8ef2-d91ae65d6a17"
      },
      "execution_count": null,
      "outputs": [
        {
          "output_type": "stream",
          "name": "stdout",
          "text": [
            "4.04\n"
          ]
        }
      ]
    },
    {
      "cell_type": "markdown",
      "source": [
        "ใช้ฟังก์ชัน find_all เพื่อนำ tag ที่เราต้องการมาเก็บไว้ใน list ใช้ for loop และ if statement เพื่อเลือกข้อมูลที่เราต้องการ"
      ],
      "metadata": {
        "id": "mqTIh5XnsaFQ"
      }
    },
    {
      "cell_type": "code",
      "source": [
        "table_data6_2 = get_table_data(tables6_2[2])\n",
        "\n",
        "for i in table_data6_2[4:12]:\n",
        "    if len(i) == 16:\n",
        "        print(i[-2])"
      ],
      "metadata": {
        "colab": {
          "base_uri": "https://localhost:8080/"
        },
        "id": "FGh-jSPPtY9Q",
        "outputId": "08793109-b794-4267-b631-956d2e4fa225"
      },
      "execution_count": null,
      "outputs": [
        {
          "output_type": "stream",
          "name": "stdout",
          "text": [
            "4.74\n",
            "4.68\n",
            "4.71\n",
            "4.71\n",
            "4.65\n",
            "4.65\n",
            "4.53\n",
            "4.62\n"
          ]
        }
      ]
    },
    {
      "cell_type": "markdown",
      "source": [
        "หาค่า mean โดยใช้ library numpy และปัดเศษทศนิยม 2 ตำแหน่ง โดยใช้ class decimal"
      ],
      "metadata": {
        "id": "dsFi3m4jsfKc"
      }
    },
    {
      "cell_type": "code",
      "source": [
        "d6_2 = [4.74,4.68,4.71,4.71,4.65,4.65,4.53,4.62]\n",
        "mean6_2 = Decimal(np.mean(d6_2)).quantize(Decimal('0.01'), rounding=ROUND_HALF_UP)\n",
        "print(mean6_2)"
      ],
      "metadata": {
        "colab": {
          "base_uri": "https://localhost:8080/"
        },
        "id": "x_dy4YQKtwjH",
        "outputId": "de140897-d3bd-4ad7-b8eb-5bb4484b31e8"
      },
      "execution_count": null,
      "outputs": [
        {
          "output_type": "stream",
          "name": "stdout",
          "text": [
            "4.66\n"
          ]
        }
      ]
    },
    {
      "cell_type": "markdown",
      "source": [
        "ใช้ฟังก์ชัน find_all เพื่อนำ tag ที่เราต้องการมาเก็บไว้ใน list ใช้ for loop และ if statement เพื่อเลือกข้อมูลที่เราต้องการ"
      ],
      "metadata": {
        "id": "QPSOJL7msi5i"
      }
    },
    {
      "cell_type": "code",
      "source": [
        "table_data7_2 = get_table_data(tables7_2[2])\n",
        "\n",
        "for i in table_data7_2[4:12]:\n",
        "    if len(i) == 16:\n",
        "        print(i[-2])"
      ],
      "metadata": {
        "colab": {
          "base_uri": "https://localhost:8080/"
        },
        "id": "3kenXHkfuW8j",
        "outputId": "61b2e45e-7288-42bb-860d-b464f1d8a23d"
      },
      "execution_count": null,
      "outputs": [
        {
          "output_type": "stream",
          "name": "stdout",
          "text": [
            "4.88\n",
            "4.79\n",
            "4.76\n",
            "4.67\n",
            "4.82\n",
            "4.61\n",
            "4.45\n",
            "4.67\n"
          ]
        }
      ]
    },
    {
      "cell_type": "markdown",
      "source": [
        "หาค่า mean โดยใช้ library numpy และปัดเศษทศนิยม 2 ตำแหน่ง โดยใช้ class decimal"
      ],
      "metadata": {
        "id": "0lNwl-fdsmI_"
      }
    },
    {
      "cell_type": "code",
      "source": [
        "d7_2 = [5.00, 5.00, 5.00, 5.00, 5.00, 5.00, 5.00, 5.00]\n",
        "mean7_2 = Decimal(np.mean(d7_2)).quantize(Decimal('0.01'), rounding=ROUND_HALF_UP)\n",
        "print(mean7_2)"
      ],
      "metadata": {
        "id": "zG9Dnp0Wuoky",
        "colab": {
          "base_uri": "https://localhost:8080/"
        },
        "outputId": "802241bf-6f54-432b-eb95-231411d2ec14"
      },
      "execution_count": null,
      "outputs": [
        {
          "output_type": "stream",
          "name": "stdout",
          "text": [
            "5.00\n"
          ]
        }
      ]
    },
    {
      "cell_type": "code",
      "source": [
        "#กำหนดข้อมูลแกน y แกน x และlabels ไว้ใน list\n",
        "x = [\"FGL497\",\"DRI970\", \"NYE553\", \"AZW892\", \"YRY790\", \"NVI781\", \"XCM602\"]\n",
        "y = [4.34, 4.43, 4.78, 4.71, 4.04, 4.66, 5.00]\n",
        "labels = [\"4.34\", \"4.43\", \"4.78\", \"4.71\", \"4.04\", \"4.66\", \"5.00\"]\n",
        "\n",
        "fig, ax = plt.subplots()\n",
        "\n",
        "#กำหนดลักษณะกราฟ\n",
        "bar_width = 0.65\n",
        "bars = ax.bar(x, y, width=bar_width, edgecolor=\"white\", linewidth=0.7, color='#F2B857')\n",
        "\n",
        "#กำหนด range\n",
        "ax.set(xlim=(-1, len(x)), xticks=range(len(x)),\n",
        "       ylim=(0, 6), yticks=np.arange(0.5, 6.5, 0.5))\n",
        "\n",
        "#กำหนดตัวแปรแกนx แกนy และชื่อของกราฟ\n",
        "plt.xlabel(\"subject\")\n",
        "plt.ylabel(\"score\")\n",
        "plt.title(\"Mean of satisfaction in 2564\")\n",
        "\n",
        "#กำหนดขนาด\n",
        "fig.set_size_inches(9,5)\n",
        "\n",
        "#ทำให้ตัวเลขปรากฏบนกราฟ\n",
        "for bar, label in zip(bars, labels):\n",
        "    a = bar.get_height()\n",
        "    plt.text(bar.get_x() + bar.get_width() / 2, a, label,\n",
        "             va='bottom', ha='center', fontsize=10, color='black')\n",
        "\n",
        "plt.show()"
      ],
      "metadata": {
        "colab": {
          "base_uri": "https://localhost:8080/",
          "height": 587
        },
        "id": "GRmJzBynu_rk",
        "outputId": "1b0b82cd-6d8c-4d21-9e94-e9d5451fa159"
      },
      "execution_count": null,
      "outputs": [
        {
          "output_type": "display_data",
          "data": {
            "text/plain": [
              "<Figure size 900x500 with 1 Axes>"
            ],
            "image/png": "[encoded data removed]"
          },
          "metadata": {}
        }
      ]
    },
    {
      "cell_type": "markdown",
      "source": [
        "ใช้ฟังก์ชัน find_all เพื่อนำ tag ที่เราต้องการมาเก็บไว้ใน list ใช้ for loop และ if statement เพื่อเลือกข้อมูลที่เราต้องการ"
      ],
      "metadata": {
        "id": "Itnf_cemsxZp"
      }
    },
    {
      "cell_type": "code",
      "source": [
        "table_data1_3 = get_table_data(tables1_3[2])\n",
        "\n",
        "for i in table_data1_3[6:8]:\n",
        "    if len(i) == 16:\n",
        "        print(i[-2])\n",
        "for i in table_data1_3[11:12]:\n",
        "    if len(i) == 16:\n",
        "        print(i[-2])"
      ],
      "metadata": {
        "colab": {
          "base_uri": "https://localhost:8080/"
        },
        "id": "k29inplWcsLc",
        "outputId": "77b5380e-d659-4dc4-cdaf-0497be2719b2"
      },
      "execution_count": null,
      "outputs": [
        {
          "output_type": "stream",
          "name": "stdout",
          "text": [
            "3.33\n",
            "4.00\n",
            "4.00\n"
          ]
        }
      ]
    },
    {
      "cell_type": "markdown",
      "source": [
        "หาค่า mean โดยใช้ library numpy และปัดเศษทศนิยม 2 ตำแหน่ง โดยใช้ class decimal"
      ],
      "metadata": {
        "id": "SMnxtYP0s0Ff"
      }
    },
    {
      "cell_type": "code",
      "source": [
        "d1_3_1 = [3.33, 4.00, 4.00]\n",
        "mean1_3_1 = Decimal(np.mean(d1_3_1)).quantize(Decimal('0.01'), rounding=ROUND_HALF_UP)\n",
        "print(mean1_3_1)"
      ],
      "metadata": {
        "colab": {
          "base_uri": "https://localhost:8080/"
        },
        "id": "W_dcqPTA4ghh",
        "outputId": "036b8dc8-38af-4224-aebc-a0bd37a98694"
      },
      "execution_count": null,
      "outputs": [
        {
          "output_type": "stream",
          "name": "stdout",
          "text": [
            "3.78\n"
          ]
        }
      ]
    },
    {
      "cell_type": "markdown",
      "source": [
        "ใช้ฟังก์ชัน find_all เพื่อนำ tag ที่เราต้องการมาเก็บไว้ใน list ใช้ for loop และ if statement เพื่อเลือกข้อมูลที่เราต้องการ"
      ],
      "metadata": {
        "id": "fG0U219Hs3hR"
      }
    },
    {
      "cell_type": "code",
      "source": [
        "table_data2_3 = get_table_data(tables2_3[2])\n",
        "\n",
        "for i in table_data2_3[10:11]:\n",
        "    if len(i) == 16:\n",
        "        print(i[-2])"
      ],
      "metadata": {
        "colab": {
          "base_uri": "https://localhost:8080/"
        },
        "id": "YYb74QTF4Pp2",
        "outputId": "ed4b435d-9795-4eb2-ebdd-6d975dd6cfd4"
      },
      "execution_count": null,
      "outputs": [
        {
          "output_type": "stream",
          "name": "stdout",
          "text": [
            "3.80\n"
          ]
        }
      ]
    },
    {
      "cell_type": "markdown",
      "source": [
        "ใช้ฟังก์ชัน find_all เพื่อนำ tag ที่เราต้องการมาเก็บไว้ใน list ใช้ for loop และ if statement เพื่อเลือกข้อมูลที่เราต้องการ"
      ],
      "metadata": {
        "id": "dswfCzhGs76J"
      }
    },
    {
      "cell_type": "code",
      "source": [
        "table_data3_3 = get_table_data(tables3_3[2])\n",
        "\n",
        "for i in table_data3_3[10:11]:\n",
        "    if len(i) == 16:\n",
        "        print(i[-2])"
      ],
      "metadata": {
        "colab": {
          "base_uri": "https://localhost:8080/"
        },
        "id": "bojIGN684XIm",
        "outputId": "06a6395f-9c37-4a5b-b76e-13616eac1c52"
      },
      "execution_count": null,
      "outputs": [
        {
          "output_type": "stream",
          "name": "stdout",
          "text": [
            "4.33\n"
          ]
        }
      ]
    },
    {
      "cell_type": "markdown",
      "source": [
        "ใช้ฟังก์ชัน find_all เพื่อนำ tag ที่เราต้องการมาเก็บไว้ใน list ใช้ for loop และ if statement เพื่อเลือกข้อมูลที่เราต้องการ"
      ],
      "metadata": {
        "id": "kBHPcjF7s_Rp"
      }
    },
    {
      "cell_type": "code",
      "source": [
        "table_data4_3 = get_table_data(tables4_3[2])\n",
        "\n",
        "for i in table_data4_3[10:11]:\n",
        "    if len(i) == 16:\n",
        "        print(i[-2])"
      ],
      "metadata": {
        "colab": {
          "base_uri": "https://localhost:8080/"
        },
        "id": "G-7cHXty3lpd",
        "outputId": "8dad7a8d-4cff-4925-a26a-6e8e65b7c17a"
      },
      "execution_count": null,
      "outputs": [
        {
          "output_type": "stream",
          "name": "stdout",
          "text": [
            "4.25\n"
          ]
        }
      ]
    },
    {
      "cell_type": "markdown",
      "source": [
        "ใช้ฟังก์ชัน find_all เพื่อนำ tag ที่เราต้องการมาเก็บไว้ใน list ใช้ for loop และ if statement เพื่อเลือกข้อมูลที่เราต้องการ"
      ],
      "metadata": {
        "id": "9mgsNZ4JtDop"
      }
    },
    {
      "cell_type": "code",
      "source": [
        "table_data1_3 = get_table_data(tables1_3[2])\n",
        "\n",
        "for i in table_data1_3[19:21]:\n",
        "    if len(i) == 16:\n",
        "        print(i[-2])"
      ],
      "metadata": {
        "colab": {
          "base_uri": "https://localhost:8080/"
        },
        "id": "FvOutZm8gacU",
        "outputId": "0b6a6208-12b1-4822-84fe-bda9903cb7ba"
      },
      "execution_count": null,
      "outputs": [
        {
          "output_type": "stream",
          "name": "stdout",
          "text": [
            "4.50\n",
            "4.17\n"
          ]
        }
      ]
    },
    {
      "cell_type": "markdown",
      "source": [
        "หาค่า mean โดยใช้ library numpy และปัดเศษทศนิยม 2 ตำแหน่ง โดยใช้ class decimal"
      ],
      "metadata": {
        "id": "pYSCL3mNtGaD"
      }
    },
    {
      "cell_type": "code",
      "source": [
        "d1_3_2 = [4.50, 4.17]\n",
        "mean1_3_2 = Decimal(np.mean(d1_3_2)).quantize(Decimal('0.01'), rounding=ROUND_HALF_UP)\n",
        "print(mean1_3_2)"
      ],
      "metadata": {
        "colab": {
          "base_uri": "https://localhost:8080/"
        },
        "id": "2-m14RqYgo_j",
        "outputId": "b2fa569f-563f-4f23-95f5-4d0dcbc3d3db"
      },
      "execution_count": null,
      "outputs": [
        {
          "output_type": "stream",
          "name": "stdout",
          "text": [
            "4.33\n"
          ]
        }
      ]
    },
    {
      "cell_type": "markdown",
      "source": [
        "ใช้ฟังก์ชัน find_all เพื่อนำ tag ที่เราต้องการมาเก็บไว้ใน list ใช้ for loop และ if statement เพื่อเลือกข้อมูลที่เราต้องการ"
      ],
      "metadata": {
        "id": "zw0Rg9b0tKzY"
      }
    },
    {
      "cell_type": "code",
      "source": [
        "table_data2_3 = get_table_data(tables2_3[2])\n",
        "\n",
        "for i in table_data2_3[8:9]:\n",
        "    if len(i) == 16:\n",
        "        print(i[-2])"
      ],
      "metadata": {
        "colab": {
          "base_uri": "https://localhost:8080/"
        },
        "id": "NwR6urxRhDyq",
        "outputId": "06ef2ca2-1159-4503-da28-5b1630e81c08"
      },
      "execution_count": null,
      "outputs": [
        {
          "output_type": "stream",
          "name": "stdout",
          "text": [
            "4.40\n"
          ]
        }
      ]
    },
    {
      "cell_type": "markdown",
      "source": [
        "ใช้ฟังก์ชัน find_all เพื่อนำ tag ที่เราต้องการมาเก็บไว้ใน list ใช้ for loop และ if statement เพื่อเลือกข้อมูลที่เราต้องการ"
      ],
      "metadata": {
        "id": "wrYHRhqotN6X"
      }
    },
    {
      "cell_type": "code",
      "source": [
        "table_data3_3 = get_table_data(tables3_3[2])\n",
        "\n",
        "for i in table_data3_3[8:9]:\n",
        "    if len(i) == 16:\n",
        "        print(i[-2])"
      ],
      "metadata": {
        "colab": {
          "base_uri": "https://localhost:8080/"
        },
        "id": "3tvUddvshO6m",
        "outputId": "ea1f8140-9063-4796-962c-bda09d092f4c"
      },
      "execution_count": null,
      "outputs": [
        {
          "output_type": "stream",
          "name": "stdout",
          "text": [
            "4.50\n"
          ]
        }
      ]
    },
    {
      "cell_type": "markdown",
      "source": [
        "ใช้ฟังก์ชัน find_all เพื่อนำ tag ที่เราต้องการมาเก็บไว้ใน list ใช้ for loop และ if statement เพื่อเลือกข้อมูลที่เราต้องการ"
      ],
      "metadata": {
        "id": "JpE0BxHytQER"
      }
    },
    {
      "cell_type": "code",
      "source": [
        "table_data4_3 = get_table_data(tables4_3[2])\n",
        "\n",
        "for i in table_data4_3[8:9]:\n",
        "    if len(i) == 16:\n",
        "        print(i[-2])"
      ],
      "metadata": {
        "colab": {
          "base_uri": "https://localhost:8080/"
        },
        "id": "PuMEHK8rhSIM",
        "outputId": "dcaccb4e-7bf4-4719-869c-905d1fbce246"
      },
      "execution_count": null,
      "outputs": [
        {
          "output_type": "stream",
          "name": "stdout",
          "text": [
            "4.43\n"
          ]
        }
      ]
    },
    {
      "cell_type": "code",
      "source": [
        "#กำหนดข้อมูลแกน y แกน x ไว้ใน list\n",
        "x1 = [\"1/2562\", \"2/2562\", \"2/2563\", \"2/2564\"]\n",
        "y1 = [3.78, 3.80, 4.33, 4.25]\n",
        "x2 = [\"1/2562\", \"2/2562\", \"2/2563\", \"2/2564\"]\n",
        "y2 = [4.33, 4.40, 4.50, 4.43]\n",
        "\n",
        "#กำหนดขนาด\n",
        "fig, ax = plt.subplots(figsize=(8, 4))\n",
        "\n",
        "#กำหนด range\n",
        "ax.set(xlim=(-1, 4), xticks=range(4),\n",
        "       ylim=(3, 5), yticks=np.arange(3, 5.1, 0.5))\n",
        "\n",
        "#กำหนดลักษณะกราฟ\n",
        "ax.plot(x1, y1, color='#C4305F', marker='o', label='Line Plot')\n",
        "ax.plot(x2, y2, color='#43A2A7', marker='o', label='Line Plot')\n",
        "\n",
        "#ทำให้ตัวเลขปรากฏบนกราฟ\n",
        "for i, txt in enumerate(y1):\n",
        "    ax.annotate(f'{txt:.2f}', (i, txt), textcoords=\"offset points\", xytext=(0,10), ha='center')\n",
        "for i, txt in enumerate(y2):\n",
        "    ax.annotate(f'{txt:.2f}', (i, txt), textcoords=\"offset points\", xytext=(0,10), ha='center')\n",
        "\n",
        "#กำหนดตัวแปรแกนx แกนy และชื่อของกราฟ\n",
        "ax.set_xlabel(\"semeter\")\n",
        "ax.set_ylabel(\"score\")\n",
        "ax.set_title(\"Mean of satisfaction (FGL497)\")\n",
        "\n",
        "plt.show()"
      ],
      "metadata": {
        "colab": {
          "base_uri": "https://localhost:8080/",
          "height": 489
        },
        "id": "eE-GqK7W8B03",
        "outputId": "d6300294-7fdd-44d6-d837-686a94e94960"
      },
      "execution_count": null,
      "outputs": [
        {
          "output_type": "display_data",
          "data": {
            "text/plain": [
              "<Figure size 800x400 with 1 Axes>"
            ],
            "image/png": "[encoded data removed]"
          },
          "metadata": {}
        }
      ]
    },
    {
      "cell_type": "markdown",
      "source": [
        "ใช้ฟังก์ชัน find_all เพื่อนำ tag ที่เราต้องการมาเก็บไว้ใน list ใช้ for loop และ if statement เพื่อเลือกข้อมูลที่เราต้องการ"
      ],
      "metadata": {
        "id": "s-Q2hwL3tUsy"
      }
    },
    {
      "cell_type": "code",
      "source": [
        "table_data1_4 = get_table_data(tables1_4[2])\n",
        "\n",
        "for i in table_data1_4[4:12]:\n",
        "    if len(i) == 16:\n",
        "        print(i[-2])"
      ],
      "metadata": {
        "colab": {
          "base_uri": "https://localhost:8080/"
        },
        "id": "s1VNX8RwBKKx",
        "outputId": "f7a331cc-1065-4a93-cb06-4ffcbb1ab9c4"
      },
      "execution_count": null,
      "outputs": [
        {
          "output_type": "stream",
          "name": "stdout",
          "text": [
            "4.88\n",
            "4.79\n",
            "4.76\n",
            "4.67\n",
            "4.82\n",
            "4.61\n",
            "4.45\n",
            "4.67\n"
          ]
        }
      ]
    },
    {
      "cell_type": "markdown",
      "source": [
        "หาค่า mean โดยใช้ library numpy และปัดเศษทศนิยม 2 ตำแหน่ง โดยใช้ class decimal"
      ],
      "metadata": {
        "id": "K7baOheOtXSD"
      }
    },
    {
      "cell_type": "code",
      "source": [
        "d1_4 = [4.88, 4.79, 4.76, 4.67, 4.82, 4.61, 4.45, 4.67]\n",
        "mean1_4 = Decimal(np.mean(d1_4)).quantize(Decimal('0.01'), rounding=ROUND_HALF_UP)\n",
        "print(mean1_4)"
      ],
      "metadata": {
        "colab": {
          "base_uri": "https://localhost:8080/"
        },
        "id": "i0D_CjKtBTEL",
        "outputId": "4fec96d3-24a1-4d0b-d0b0-49cf126413a1"
      },
      "execution_count": null,
      "outputs": [
        {
          "output_type": "stream",
          "name": "stdout",
          "text": [
            "4.71\n"
          ]
        }
      ]
    },
    {
      "cell_type": "markdown",
      "source": [
        "ใช้ฟังก์ชัน find_all เพื่อนำ tag ที่เราต้องการมาเก็บไว้ใน list ใช้ for loop และ if statement เพื่อเลือกข้อมูลที่เราต้องการ"
      ],
      "metadata": {
        "id": "4MTcnebItaSc"
      }
    },
    {
      "cell_type": "code",
      "source": [
        "table_data2_4 = get_table_data(tables2_4[2])\n",
        "\n",
        "for i in table_data2_4[4:12]:\n",
        "    if len(i) == 16:\n",
        "        print(i[-2])"
      ],
      "metadata": {
        "colab": {
          "base_uri": "https://localhost:8080/"
        },
        "id": "Uy4SaFrLBhBl",
        "outputId": "44a94171-92b5-49c0-c1da-ad92bf97582d"
      },
      "execution_count": null,
      "outputs": [
        {
          "output_type": "stream",
          "name": "stdout",
          "text": [
            "4.80\n",
            "4.40\n",
            "4.00\n",
            "4.60\n",
            "4.40\n",
            "3.80\n",
            "4.60\n",
            "4.40\n"
          ]
        }
      ]
    },
    {
      "cell_type": "markdown",
      "source": [
        "หาค่า mean โดยใช้ library numpy และปัดเศษทศนิยม 2 ตำแหน่ง โดยใช้ class decimal"
      ],
      "metadata": {
        "id": "Idey-MjJtdPq"
      }
    },
    {
      "cell_type": "code",
      "source": [
        "d2_4 = [4.80, 4.40, 4.00, 4.60, 4.40, 3.80, 4.60, 4.40]\n",
        "mean2_4 = Decimal(np.mean(d2_4)).quantize(Decimal('0.01'), rounding=ROUND_HALF_UP)\n",
        "print(mean2_4)"
      ],
      "metadata": {
        "colab": {
          "base_uri": "https://localhost:8080/"
        },
        "id": "nMIUtyI0Bqto",
        "outputId": "1917a5d0-2e23-42a5-b5ee-8caf1579abc5"
      },
      "execution_count": null,
      "outputs": [
        {
          "output_type": "stream",
          "name": "stdout",
          "text": [
            "4.38\n"
          ]
        }
      ]
    },
    {
      "cell_type": "code",
      "source": [
        "#กำหนดข้อมูลแกน y แกน x และlabels ไว้ใน list\n",
        "x = [\"2563\",\"2564\"]\n",
        "y = [4.38, 4.71]\n",
        "labels = [\"4.38\", \"4.71\"]\n",
        "\n",
        "fig, ax = plt.subplots()\n",
        "\n",
        "#กำหนดลักษณะกราฟ\n",
        "bar_width = 0.65\n",
        "bars = ax.bar(x, y, width=bar_width, edgecolor=\"white\", linewidth=0.7, color='#D94A76')\n",
        "\n",
        "#กำหนด range\n",
        "ax.set(xlim=(-1, len(x)), xticks=range(len(x)),\n",
        "       ylim=(0, 5), yticks=np.arange(0, 5.5, 0.5))\n",
        "\n",
        "#กำหนดตัวแปรแกนx แกนy และชื่อของกราฟ\n",
        "plt.xlabel(\"year\")\n",
        "plt.ylabel(\"score\")\n",
        "plt.title(\"Mean of satisfaction (AZW892)\")\n",
        "\n",
        "#กำหนดขนาด\n",
        "fig.set_size_inches(5,5)\n",
        "\n",
        "#ทำให้ตัวเลขปรากฏบนกราฟ\n",
        "for bar, label in zip(bars, labels):\n",
        "    a = bar.get_height()\n",
        "    plt.text(bar.get_x() + bar.get_width() / 2, a, label,\n",
        "             va='bottom', ha='center', fontsize=10, color='black')\n",
        "\n",
        "plt.show()"
      ],
      "metadata": {
        "colab": {
          "base_uri": "https://localhost:8080/",
          "height": 587
        },
        "id": "bZbFZuWpB4JH",
        "outputId": "90a0bc45-4727-46ba-8a86-df83b2513cd8"
      },
      "execution_count": null,
      "outputs": [
        {
          "output_type": "display_data",
          "data": {
            "text/plain": [
              "<Figure size 500x500 with 1 Axes>"
            ],
            "image/png": "[encoded data removed]"
          },
          "metadata": {}
        }
      ]
    },
    {
      "cell_type": "markdown",
      "source": [
        "ใช้ฟังก์ชัน find_all เพื่อนำ tag ที่เราต้องการมาเก็บไว้ใน list ใช้ for loop และ if statement เพื่อเลือกข้อมูลที่เราต้องการ"
      ],
      "metadata": {
        "id": "aklPDQpHthvE"
      }
    },
    {
      "cell_type": "code",
      "source": [
        "table_data1_5 = get_table_data(tables1_5[2])\n",
        "\n",
        "for i in table_data1_5[6:8]:\n",
        "    if len(i) == 16:\n",
        "        print(i[-2])\n",
        "for i in table_data1_5[11:12]:\n",
        "    if len(i) == 16:\n",
        "        print(i[-2])"
      ],
      "metadata": {
        "colab": {
          "base_uri": "https://localhost:8080/"
        },
        "id": "HWfkuEwDjFeR",
        "outputId": "90734ef8-712d-4d2a-8fb3-071c272ecc11"
      },
      "execution_count": null,
      "outputs": [
        {
          "output_type": "stream",
          "name": "stdout",
          "text": [
            "3.14\n",
            "4.00\n",
            "4.29\n"
          ]
        }
      ]
    },
    {
      "cell_type": "markdown",
      "source": [
        "หาค่า mean โดยใช้ library numpy และปัดเศษทศนิยม 2 ตำแหน่ง โดยใช้ class decimal"
      ],
      "metadata": {
        "id": "InaXepbxtj2D"
      }
    },
    {
      "cell_type": "code",
      "source": [
        "d1_5_1 = [3.14, 4.00, 4.29]\n",
        "mean1_5_1 = Decimal(np.mean(d1_5_1)).quantize(Decimal('0.01'), rounding=ROUND_HALF_UP)\n",
        "print(mean1_5_1)"
      ],
      "metadata": {
        "colab": {
          "base_uri": "https://localhost:8080/"
        },
        "id": "ISDH8LZ8l3-Z",
        "outputId": "2c556448-51d7-4b01-924e-cfd90a4b87fb"
      },
      "execution_count": null,
      "outputs": [
        {
          "output_type": "stream",
          "name": "stdout",
          "text": [
            "3.81\n"
          ]
        }
      ]
    },
    {
      "cell_type": "markdown",
      "source": [
        "ใช้ฟังก์ชัน find_all เพื่อนำ tag ที่เราต้องการมาเก็บไว้ใน list ใช้ for loop และ if statement เพื่อเลือกข้อมูลที่เราต้องการ"
      ],
      "metadata": {
        "id": "SlNQ-Ll2tmtI"
      }
    },
    {
      "cell_type": "code",
      "source": [
        "table_data2_5 = get_table_data(tables2_5[2])\n",
        "\n",
        "for i in table_data2_5[6:8]:\n",
        "    if len(i) == 16:\n",
        "        print(i[-2])\n",
        "for i in table_data2_5[11:12]:\n",
        "    if len(i) == 16:\n",
        "        print(i[-2])"
      ],
      "metadata": {
        "colab": {
          "base_uri": "https://localhost:8080/"
        },
        "id": "rwlpAW7ymTEP",
        "outputId": "8be7ad83-ff71-466e-daff-308101eec6d7"
      },
      "execution_count": null,
      "outputs": [
        {
          "output_type": "stream",
          "name": "stdout",
          "text": [
            "3.92\n",
            "4.58\n",
            "4.83\n"
          ]
        }
      ]
    },
    {
      "cell_type": "markdown",
      "source": [
        "หาค่า mean โดยใช้ library numpy และปัดเศษทศนิยม 2 ตำแหน่ง โดยใช้ class decimal"
      ],
      "metadata": {
        "id": "aWneFTObtpaI"
      }
    },
    {
      "cell_type": "code",
      "source": [
        "d2_5_1 = [3.92, 4.58, 4.83]\n",
        "mean2_5_1 = Decimal(np.mean(d2_5_1)).quantize(Decimal('0.01'), rounding=ROUND_HALF_UP)\n",
        "print(mean2_5_1)"
      ],
      "metadata": {
        "colab": {
          "base_uri": "https://localhost:8080/"
        },
        "id": "vzydwAg5mh_J",
        "outputId": "91bdbcec-2098-4b9a-9db5-584bec3b7727"
      },
      "execution_count": null,
      "outputs": [
        {
          "output_type": "stream",
          "name": "stdout",
          "text": [
            "4.44\n"
          ]
        }
      ]
    },
    {
      "cell_type": "markdown",
      "source": [
        "ใช้ฟังก์ชัน find_all เพื่อนำ tag ที่เราต้องการมาเก็บไว้ใน list ใช้ for loop และ if statement เพื่อเลือกข้อมูลที่เราต้องการ"
      ],
      "metadata": {
        "id": "rln9T_-lt-Ej"
      }
    },
    {
      "cell_type": "code",
      "source": [
        "table_data3_5 = get_table_data(tables3_5[2])\n",
        "\n",
        "for i in table_data3_5[10:11]:\n",
        "    if len(i) == 16:\n",
        "        print(i[-2])"
      ],
      "metadata": {
        "colab": {
          "base_uri": "https://localhost:8080/"
        },
        "id": "TLskMNfOmuK6",
        "outputId": "408211cc-27a0-4075-c2c9-f6b3f0af4679"
      },
      "execution_count": null,
      "outputs": [
        {
          "output_type": "stream",
          "name": "stdout",
          "text": [
            "3.97\n"
          ]
        }
      ]
    },
    {
      "cell_type": "markdown",
      "source": [
        "ใช้ฟังก์ชัน find_all เพื่อนำ tag ที่เราต้องการมาเก็บไว้ใน list ใช้ for loop และ if statement เพื่อเลือกข้อมูลที่เราต้องการ"
      ],
      "metadata": {
        "id": "Yb8yU4KSuA9J"
      }
    },
    {
      "cell_type": "code",
      "source": [
        "table_data1_5 = get_table_data(tables1_5[2])\n",
        "\n",
        "for i in table_data1_5[19:21]:\n",
        "    if len(i) == 16:\n",
        "        print(i[-2])"
      ],
      "metadata": {
        "colab": {
          "base_uri": "https://localhost:8080/"
        },
        "id": "_GZKnq34nc_h",
        "outputId": "07d75ce7-c9e9-4128-b744-e8df66e8d303"
      },
      "execution_count": null,
      "outputs": [
        {
          "output_type": "stream",
          "name": "stdout",
          "text": [
            "4.14\n",
            "4.29\n"
          ]
        }
      ]
    },
    {
      "cell_type": "markdown",
      "source": [
        "หาค่า mean โดยใช้ library numpy และปัดเศษทศนิยม 2 ตำแหน่ง โดยใช้ class decimal"
      ],
      "metadata": {
        "id": "IMteFfDkuDdy"
      }
    },
    {
      "cell_type": "code",
      "source": [
        "d1_5_2 = [4.14, 4.29]\n",
        "mean1_5_2 = Decimal(np.mean(d1_5_2)).quantize(Decimal('0.01'), rounding=ROUND_HALF_UP)\n",
        "print(mean1_5_2)"
      ],
      "metadata": {
        "colab": {
          "base_uri": "https://localhost:8080/"
        },
        "id": "rxOQJn-wnisT",
        "outputId": "53d859e8-5753-4111-ab3a-9acbdfc61811"
      },
      "execution_count": null,
      "outputs": [
        {
          "output_type": "stream",
          "name": "stdout",
          "text": [
            "4.21\n"
          ]
        }
      ]
    },
    {
      "cell_type": "markdown",
      "source": [
        "ใช้ฟังก์ชัน find_all เพื่อนำ tag ที่เราต้องการมาเก็บไว้ใน list ใช้ for loop และ if statement เพื่อเลือกข้อมูลที่เราต้องการ"
      ],
      "metadata": {
        "id": "mLac40XGuHJl"
      }
    },
    {
      "cell_type": "code",
      "source": [
        "table_data2_5 = get_table_data(tables2_5[2])\n",
        "\n",
        "for i in table_data2_5[19:21]:\n",
        "    if len(i) == 16:\n",
        "        print(i[-2])"
      ],
      "metadata": {
        "colab": {
          "base_uri": "https://localhost:8080/"
        },
        "id": "aT8XoG8Nnzbj",
        "outputId": "2af5f1db-a24f-410d-d86d-8d7ef0d10dd9"
      },
      "execution_count": null,
      "outputs": [
        {
          "output_type": "stream",
          "name": "stdout",
          "text": [
            "4.67\n",
            "4.58\n"
          ]
        }
      ]
    },
    {
      "cell_type": "markdown",
      "source": [
        "หาค่า mean โดยใช้ library numpy และปัดเศษทศนิยม 2 ตำแหน่ง โดยใช้ class decimal"
      ],
      "metadata": {
        "id": "9kixETOkuLS9"
      }
    },
    {
      "cell_type": "code",
      "source": [
        "d2_5_2 = [4.67, 4.58]\n",
        "mean2_5_2 = Decimal(np.mean(d2_5_2)).quantize(Decimal('0.01'), rounding=ROUND_HALF_UP)\n",
        "print(mean2_5_2)"
      ],
      "metadata": {
        "colab": {
          "base_uri": "https://localhost:8080/"
        },
        "id": "d57Hfqngn_Vl",
        "outputId": "9e1d0d15-2f25-4f50-b702-0c69d47b2b1f"
      },
      "execution_count": null,
      "outputs": [
        {
          "output_type": "stream",
          "name": "stdout",
          "text": [
            "4.63\n"
          ]
        }
      ]
    },
    {
      "cell_type": "markdown",
      "source": [
        "หาค่า mean โดยใช้ library numpy และปัดเศษทศนิยม 2 ตำแหน่ง โดยใช้ class decimal"
      ],
      "metadata": {
        "id": "vOdXUk2nuPqP"
      }
    },
    {
      "cell_type": "code",
      "source": [
        "table_dat3_5 = get_table_data(tables3_5[2])\n",
        "\n",
        "for i in table_data3_5[8:9]:\n",
        "    if len(i) == 16:\n",
        "        print(i[-2])"
      ],
      "metadata": {
        "colab": {
          "base_uri": "https://localhost:8080/"
        },
        "id": "9iPAIEAuoH9C",
        "outputId": "163b806d-9094-42af-8e0b-f22a1a98a8bc"
      },
      "execution_count": null,
      "outputs": [
        {
          "output_type": "stream",
          "name": "stdout",
          "text": [
            "3.88\n"
          ]
        }
      ]
    },
    {
      "cell_type": "code",
      "source": [
        "#กำหนดข้อมูลแกน y แกน x ไว้ใน list\n",
        "x1 = [\"2/2561\", \"1/2562\", \"1/2564\"]\n",
        "y1 = [3.81, 4.44, 3.97]\n",
        "x2 = [\"2/2561\", \"1/2562\", \"1/2564\"]\n",
        "y2 = [4.21, 4.63, 3.88]\n",
        "\n",
        "#กำหนดขนาด\n",
        "fig, ax = plt.subplots(figsize=(8, 4))\n",
        "\n",
        "#กำหนด range\n",
        "ax.set(xlim=(-1, 3), xticks=range(3),\n",
        "       ylim=(3, 5), yticks=np.arange(3, 5.1, 0.5))\n",
        "\n",
        "#กำหนดลักษณะของเส้นกราฟ\n",
        "ax.plot(x1, y1, color='#FC6238', marker='o', label='Line Plot')\n",
        "ax.plot(x2, y2, color='#0065A2', marker='o', label='Line Plot')\n",
        "\n",
        "#ทำให้ตัวเลขปรากฏบนกราฟ\n",
        "for i, txt in enumerate(y1):\n",
        "    ax.annotate(f'{txt:.2f}', (i, txt), textcoords=\"offset points\", xytext=(0,10), ha='center')\n",
        "for i, txt in enumerate(y2):\n",
        "    ax.annotate(f'{txt:.2f}', (i, txt), textcoords=\"offset points\", xytext=(0,10), ha='center')\n",
        "\n",
        "#กำหนดตัวแปรแกนxแกนyและชื่อของกราฟ\n",
        "ax.set_xlabel(\"semeter\")\n",
        "ax.set_ylabel(\"score\")\n",
        "ax.set_title(\"Mean of satisfaction (YRY790)\")\n",
        "\n",
        "plt.show()"
      ],
      "metadata": {
        "colab": {
          "base_uri": "https://localhost:8080/",
          "height": 489
        },
        "id": "dZobwUFAoTMJ",
        "outputId": "93d7d5f4-9707-4216-fca2-f9583bea7448"
      },
      "execution_count": null,
      "outputs": [
        {
          "output_type": "display_data",
          "data": {
            "text/plain": [
              "<Figure size 800x400 with 1 Axes>"
            ],
            "image/png": "[encoded data removed]"
          },
          "metadata": {}
        }
      ]
    },
    {
      "cell_type": "markdown",
      "source": [
        "ใช้ฟังก์ชัน find_all เพื่อนำ tag ที่เราต้องการมาเก็บไว้ใน list ใช้ for loop และ if statement เพื่อเลือกข้อมูลที่เราต้องการ"
      ],
      "metadata": {
        "id": "4qslwyFHuU8y"
      }
    },
    {
      "cell_type": "code",
      "source": [
        "table_data1_6 = get_table_data(tables1_6[2])\n",
        "\n",
        "for i in table_data1_6[6:8]:\n",
        "    if len(i) == 16:\n",
        "        print(i[-2])\n",
        "for i in table_data1_6[11:12]:\n",
        "    if len(i) == 16:\n",
        "        print(i[-2])"
      ],
      "metadata": {
        "colab": {
          "base_uri": "https://localhost:8080/"
        },
        "id": "1LbDPh5hr-hr",
        "outputId": "ec54c3b4-bc72-4f33-c815-4e05d83b3e0b"
      },
      "execution_count": null,
      "outputs": [
        {
          "output_type": "stream",
          "name": "stdout",
          "text": [
            "3.62\n",
            "3.70\n",
            "3.72\n"
          ]
        }
      ]
    },
    {
      "cell_type": "markdown",
      "source": [
        "หาค่า mean โดยใช้ library numpy และปัดเศษทศนิยม 2 ตำแหน่ง โดยใช้ class decimal"
      ],
      "metadata": {
        "id": "VySwkxgeuXUH"
      }
    },
    {
      "cell_type": "code",
      "source": [
        "d1_6 = [3.62,3.70,3.72]\n",
        "mean1_6 = Decimal(np.mean(d1_6)).quantize(Decimal('0.01'), rounding=ROUND_HALF_UP)\n",
        "print(mean1_6)"
      ],
      "metadata": {
        "colab": {
          "base_uri": "https://localhost:8080/"
        },
        "id": "4-ZMv-oxuT98",
        "outputId": "b4430123-6621-46d7-d049-adeee8abf956"
      },
      "execution_count": null,
      "outputs": [
        {
          "output_type": "stream",
          "name": "stdout",
          "text": [
            "3.68\n"
          ]
        }
      ]
    },
    {
      "cell_type": "markdown",
      "source": [
        "ใช้ฟังก์ชัน find_all เพื่อนำ tag ที่เราต้องการมาเก็บไว้ใน list ใช้ for loop และ if statement เพื่อเลือกข้อมูลที่เราต้องการ"
      ],
      "metadata": {
        "id": "o5ALGjowuaml"
      }
    },
    {
      "cell_type": "code",
      "source": [
        "table_data2_6 = get_table_data(tables2_6[2])\n",
        "\n",
        "for i in table_data2_6[6:8]:\n",
        "    if len(i) == 16:\n",
        "        print(i[-2])\n",
        "for i in table_data2_6[11:12]:\n",
        "    if len(i) == 16:\n",
        "        print(i[-2])"
      ],
      "metadata": {
        "colab": {
          "base_uri": "https://localhost:8080/"
        },
        "id": "fDJ-GKnLuvCO",
        "outputId": "2cfdb164-a605-441a-9662-190d99f7bb79"
      },
      "execution_count": null,
      "outputs": [
        {
          "output_type": "stream",
          "name": "stdout",
          "text": [
            "3.68\n",
            "3.95\n",
            "3.91\n"
          ]
        }
      ]
    },
    {
      "cell_type": "markdown",
      "source": [
        "หาค่า mean โดยใช้ library numpy และปัดเศษทศนิยม 2 ตำแหน่ง โดยใช้ class decimal"
      ],
      "metadata": {
        "id": "mKAAwDXnueR9"
      }
    },
    {
      "cell_type": "code",
      "source": [
        "d2_6 = [3.68,3.95,3.91]\n",
        "mean2_6 = Decimal(np.mean(d2_6)).quantize(Decimal('0.01'), rounding=ROUND_HALF_UP)\n",
        "print(mean2_6)"
      ],
      "metadata": {
        "colab": {
          "base_uri": "https://localhost:8080/"
        },
        "id": "1AT1kt-Mu6G8",
        "outputId": "3872eca0-ddca-4c1d-c166-70702ecbdd73"
      },
      "execution_count": null,
      "outputs": [
        {
          "output_type": "stream",
          "name": "stdout",
          "text": [
            "3.85\n"
          ]
        }
      ]
    },
    {
      "cell_type": "markdown",
      "source": [
        "ใช้ฟังก์ชัน find_all เพื่อนำ tag ที่เราต้องการมาเก็บไว้ใน list ใช้ for loop และ if statement เพื่อเลือกข้อมูลที่เราต้องการ"
      ],
      "metadata": {
        "id": "kXCkVMRtuhE7"
      }
    },
    {
      "cell_type": "code",
      "source": [
        "table_data3_6 = get_table_data(tables3_6[2])\n",
        "\n",
        "for i in table_data3_6[10:11]:\n",
        "    if len(i) == 16:\n",
        "        print(i[-2])"
      ],
      "metadata": {
        "colab": {
          "base_uri": "https://localhost:8080/"
        },
        "id": "OxgmRnWHvTN5",
        "outputId": "ceac7c2a-fc5c-4a27-dd45-6a5ea6421aa2"
      },
      "execution_count": null,
      "outputs": [
        {
          "output_type": "stream",
          "name": "stdout",
          "text": [
            "3.38\n"
          ]
        }
      ]
    },
    {
      "cell_type": "code",
      "source": [
        "#กำหนดข้อมูลแกน y แกน x ไว้ใน list\n",
        "x1 = [\"2/2561\", \"1/2562\", \"2/2562\"]\n",
        "y1 = [3.68, 3.85, 3.38]\n",
        "\n",
        "#กำหนดขนาด\n",
        "fig, ax = plt.subplots(figsize=(6, 4))\n",
        "\n",
        "#กำหนด range\n",
        "ax.set(xlim=(-1, 3), xticks=range(3),\n",
        "       ylim=(3, 5), yticks=np.arange(3, 5.1, 0.5))\n",
        "\n",
        "#กำหนดลักษณะของเส้นกราฟ\n",
        "ax.plot(x1, y1, color='#E22427', marker='o', label='Line Plot')\n",
        "\n",
        "#ทำให้ตัวเลขปรากฏบนกราฟ\n",
        "for i, txt in enumerate(y1):\n",
        "    ax.annotate(f'{txt:.2f}', (i, txt), textcoords=\"offset points\", xytext=(0,10), ha='center')\n",
        "\n",
        "#กำหนดตัวแปรแกนxแกนyและชื่อของกราฟ\n",
        "ax.set_xlabel(\"semeter\")\n",
        "ax.set_ylabel(\"score\")\n",
        "ax.set_title(\"Mean of satisfaction (RMW014)\")\n",
        "\n",
        "plt.show()"
      ],
      "metadata": {
        "colab": {
          "base_uri": "https://localhost:8080/",
          "height": 489
        },
        "id": "W8Ohx-Kkvw8w",
        "outputId": "7cc087c9-24ae-4e47-9159-05eda42d60f5"
      },
      "execution_count": null,
      "outputs": [
        {
          "output_type": "display_data",
          "data": {
            "text/plain": [
              "<Figure size 600x400 with 1 Axes>"
            ],
            "image/png": "[encoded data removed]"
          },
          "metadata": {}
        }
      ]
    },
    {
      "cell_type": "markdown",
      "source": [
        "ใช้ฟังก์ชัน find_all เพื่อนำ tag ที่เราต้องการมาเก็บไว้ใน list ใช้ for loop และ if statement เพื่อเลือกข้อมูลที่เราต้องการ"
      ],
      "metadata": {
        "id": "-yyQSBNLuk4e"
      }
    },
    {
      "cell_type": "code",
      "source": [
        "table_data1_7 = get_table_data(tables1_7[2])\n",
        "\n",
        "for i in table_data1_7[6:8]:\n",
        "    if len(i) == 16:\n",
        "        print(i[-2])\n",
        "for i in table_data1_7[11:12]:\n",
        "    if len(i) == 16:\n",
        "        print(i[-2])"
      ],
      "metadata": {
        "colab": {
          "base_uri": "https://localhost:8080/"
        },
        "id": "pxPi4a4uxDyT",
        "outputId": "8080651a-a258-4da7-fc4b-11d6fc491ea0"
      },
      "execution_count": null,
      "outputs": [
        {
          "output_type": "stream",
          "name": "stdout",
          "text": [
            "4.15\n",
            "4.46\n",
            "4.43\n"
          ]
        }
      ]
    },
    {
      "cell_type": "markdown",
      "source": [
        "หาค่า mean โดยใช้ library numpy และปัดเศษทศนิยม 2 ตำแหน่ง โดยใช้ class decimal"
      ],
      "metadata": {
        "id": "N40axP0bunck"
      }
    },
    {
      "cell_type": "code",
      "source": [
        "d1_7_1 = [4.15,4.46,4.43]\n",
        "mean1_7_1 = Decimal(np.mean(d1_7_1)).quantize(Decimal('0.01'), rounding=ROUND_HALF_UP)\n",
        "print(mean1_7_1)"
      ],
      "metadata": {
        "colab": {
          "base_uri": "https://localhost:8080/"
        },
        "id": "8GclgRGW4Vub",
        "outputId": "b814360f-4ab5-4839-d805-3aebf3753439"
      },
      "execution_count": null,
      "outputs": [
        {
          "output_type": "stream",
          "name": "stdout",
          "text": [
            "4.35\n"
          ]
        }
      ]
    },
    {
      "cell_type": "markdown",
      "source": [
        "ใช้ฟังก์ชัน find_all เพื่อนำ tag ที่เราต้องการมาเก็บไว้ใน list ใช้ for loop และ if statement เพื่อเลือกข้อมูลที่เราต้องการ"
      ],
      "metadata": {
        "id": "e8uThWVHuqtS"
      }
    },
    {
      "cell_type": "code",
      "source": [
        "table_data2_7 = get_table_data(tables2_7[2])\n",
        "\n",
        "for i in table_data2_7[6:8]:\n",
        "    if len(i) == 16:\n",
        "        print(i[-2])\n",
        "for i in table_data2_7[11:12]:\n",
        "    if len(i) == 16:\n",
        "        print(i[-2])"
      ],
      "metadata": {
        "colab": {
          "base_uri": "https://localhost:8080/"
        },
        "id": "y1l6T9A44eS8",
        "outputId": "938ba66d-67c2-423e-ef05-fbce0e3eb541"
      },
      "execution_count": null,
      "outputs": [
        {
          "output_type": "stream",
          "name": "stdout",
          "text": [
            "3.92\n",
            "4.38\n",
            "4.54\n"
          ]
        }
      ]
    },
    {
      "cell_type": "markdown",
      "source": [
        "หาค่า mean โดยใช้ library numpy และปัดเศษทศนิยม 2 ตำแหน่ง โดยใช้ class decimal"
      ],
      "metadata": {
        "id": "V7uorsalus94"
      }
    },
    {
      "cell_type": "code",
      "source": [
        "d2_7_1 = [3.92,4.38,4.54]\n",
        "mean2_7_1 = Decimal(np.mean(d2_7_1)).quantize(Decimal('0.01'), rounding=ROUND_HALF_UP)\n",
        "print(mean2_7_1)"
      ],
      "metadata": {
        "colab": {
          "base_uri": "https://localhost:8080/"
        },
        "id": "Aie3AMdH4tEz",
        "outputId": "7ac7aacb-3580-4d82-ad63-e8de9679e822"
      },
      "execution_count": null,
      "outputs": [
        {
          "output_type": "stream",
          "name": "stdout",
          "text": [
            "4.28\n"
          ]
        }
      ]
    },
    {
      "cell_type": "markdown",
      "source": [
        "ใช้ฟังก์ชัน find_all เพื่อนำ tag ที่เราต้องการมาเก็บไว้ใน list ใช้ for loop และ if statement เพื่อเลือกข้อมูลที่เราต้องการ"
      ],
      "metadata": {
        "id": "j1C3rBrtuv2L"
      }
    },
    {
      "cell_type": "code",
      "source": [
        "table_data3_7 = get_table_data(tables3_7[2])\n",
        "\n",
        "for i in table_data3_7[6:8]:\n",
        "    if len(i) == 16:\n",
        "        print(i[-2])\n",
        "for i in table_data3_7[11:12]:\n",
        "    if len(i) == 16:\n",
        "        print(i[-2])"
      ],
      "metadata": {
        "colab": {
          "base_uri": "https://localhost:8080/"
        },
        "id": "Dcip5mLi44nU",
        "outputId": "a91dd57d-da4d-4b30-f1df-208c48f34f65"
      },
      "execution_count": null,
      "outputs": [
        {
          "output_type": "stream",
          "name": "stdout",
          "text": [
            "4.03\n",
            "4.38\n",
            "4.34\n"
          ]
        }
      ]
    },
    {
      "cell_type": "markdown",
      "source": [
        "หาค่า mean โดยใช้ library numpy และปัดเศษทศนิยม 2 ตำแหน่ง โดยใช้ class decimal"
      ],
      "metadata": {
        "id": "JEgQKOJuuyRn"
      }
    },
    {
      "cell_type": "code",
      "source": [
        "d3_7_1 = [4.03,4.38,4.34]\n",
        "mean3_7_1 = Decimal(np.mean(d3_7_1)).quantize(Decimal('0.01'), rounding=ROUND_HALF_UP)\n",
        "print(mean3_7_1)"
      ],
      "metadata": {
        "colab": {
          "base_uri": "https://localhost:8080/"
        },
        "id": "Fnvt-HJ_5AcG",
        "outputId": "d0375394-215b-4a12-99a5-13f02dd667ce"
      },
      "execution_count": null,
      "outputs": [
        {
          "output_type": "stream",
          "name": "stdout",
          "text": [
            "4.25\n"
          ]
        }
      ]
    },
    {
      "cell_type": "markdown",
      "source": [
        "ใช้ฟังก์ชัน find_all เพื่อนำ tag ที่เราต้องการมาเก็บไว้ใน list ใช้ for loop และ if statement เพื่อเลือกข้อมูลที่เราต้องการ"
      ],
      "metadata": {
        "id": "LQZT0NBeu2fq"
      }
    },
    {
      "cell_type": "code",
      "source": [
        "table_data4_7 = get_table_data(tables4_7[2])\n",
        "\n",
        "for i in table_data4_7[6:8]:\n",
        "    if len(i) == 16:\n",
        "        print(i[-2])\n",
        "for i in table_data4_7[11:12]:\n",
        "    if len(i) == 16:\n",
        "        print(i[-2])"
      ],
      "metadata": {
        "colab": {
          "base_uri": "https://localhost:8080/"
        },
        "id": "g-m0Unv85JOW",
        "outputId": "881ba82c-f232-4350-fb3d-e5abf9cb59fb"
      },
      "execution_count": null,
      "outputs": [
        {
          "output_type": "stream",
          "name": "stdout",
          "text": [
            "3.13\n",
            "3.75\n",
            "2.88\n"
          ]
        }
      ]
    },
    {
      "cell_type": "markdown",
      "source": [
        "หาค่า mean โดยใช้ library numpy และปัดเศษทศนิยม 2 ตำแหน่ง โดยใช้ class decimal"
      ],
      "metadata": {
        "id": "xfwPlDS7u5W2"
      }
    },
    {
      "cell_type": "code",
      "source": [
        "d4_7_1 = [3.13,3.75,2.88]\n",
        "mean4_7_1 = Decimal(np.mean(d4_7_1)).quantize(Decimal('0.01'), rounding=ROUND_HALF_UP)\n",
        "print(mean4_7_1)"
      ],
      "metadata": {
        "colab": {
          "base_uri": "https://localhost:8080/"
        },
        "id": "UeKBSY3y5PJ7",
        "outputId": "ff519027-e01f-449d-abfb-690d7a944cff"
      },
      "execution_count": null,
      "outputs": [
        {
          "output_type": "stream",
          "name": "stdout",
          "text": [
            "3.25\n"
          ]
        }
      ]
    },
    {
      "cell_type": "markdown",
      "source": [
        "ใช้ฟังก์ชัน find_all เพื่อนำ tag ที่เราต้องการมาเก็บไว้ใน list ใช้ for loop และ if statement เพื่อเลือกข้อมูลที่เราต้องการ"
      ],
      "metadata": {
        "id": "JWeoN5NDu8k5"
      }
    },
    {
      "cell_type": "code",
      "source": [
        "table_data5_7 = get_table_data(tables5_7[2])\n",
        "\n",
        "for i in table_data5_7[10:11]:\n",
        "    if len(i) == 16:\n",
        "        print(i[-2])"
      ],
      "metadata": {
        "colab": {
          "base_uri": "https://localhost:8080/"
        },
        "id": "AYSN8k8R5idG",
        "outputId": "bb282b8e-5396-4794-e979-68f521929db6"
      },
      "execution_count": null,
      "outputs": [
        {
          "output_type": "stream",
          "name": "stdout",
          "text": [
            "4.33\n"
          ]
        }
      ]
    },
    {
      "cell_type": "markdown",
      "source": [
        "ใช้ฟังก์ชัน find_all เพื่อนำ tag ที่เราต้องการมาเก็บไว้ใน list ใช้ for loop และ if statement เพื่อเลือกข้อมูลที่เราต้องการ"
      ],
      "metadata": {
        "id": "KeLj9sb3u_q7"
      }
    },
    {
      "cell_type": "code",
      "source": [
        "table_data6_7 = get_table_data(tables6_7[2])\n",
        "\n",
        "for i in table_data6_7[10:11]:\n",
        "    if len(i) == 16:\n",
        "        print(i[-2])"
      ],
      "metadata": {
        "colab": {
          "base_uri": "https://localhost:8080/"
        },
        "id": "QuWfOCxP6a8c",
        "outputId": "327c0d75-1600-4f1f-aa1f-e9a8cc17a809"
      },
      "execution_count": null,
      "outputs": [
        {
          "output_type": "stream",
          "name": "stdout",
          "text": [
            "3.80\n"
          ]
        }
      ]
    },
    {
      "cell_type": "markdown",
      "source": [
        "ใช้ฟังก์ชัน find_all เพื่อนำ tag ที่เราต้องการมาเก็บไว้ใน list ใช้ for loop และ if statement เพื่อเลือกข้อมูลที่เราต้องการ"
      ],
      "metadata": {
        "id": "TWTUQ3cVvB9y"
      }
    },
    {
      "cell_type": "code",
      "source": [
        "table_data7_7 = get_table_data(tables7_7[2])\n",
        "\n",
        "for i in table_data7_7[10:11]:\n",
        "    if len(i) == 16:\n",
        "        print(i[-2])"
      ],
      "metadata": {
        "colab": {
          "base_uri": "https://localhost:8080/"
        },
        "id": "hQLBROzw9K1l",
        "outputId": "5daa7384-0553-44e9-c4a3-9f7dd6793d03"
      },
      "execution_count": null,
      "outputs": [
        {
          "output_type": "stream",
          "name": "stdout",
          "text": [
            "4.25\n"
          ]
        }
      ]
    },
    {
      "cell_type": "markdown",
      "source": [
        "ใช้ฟังก์ชัน find_all เพื่อนำ tag ที่เราต้องการมาเก็บไว้ใน list ใช้ for loop และ if statement เพื่อเลือกข้อมูลที่เราต้องการ"
      ],
      "metadata": {
        "id": "jHckYK5AvEt3"
      }
    },
    {
      "cell_type": "code",
      "source": [
        "table_data8_7 = get_table_data(tables8_7[2])\n",
        "\n",
        "for i in table_data8_7[10:11]:\n",
        "    if len(i) == 16:\n",
        "        print(i[-2])"
      ],
      "metadata": {
        "colab": {
          "base_uri": "https://localhost:8080/"
        },
        "id": "D79_sPFJ9OKo",
        "outputId": "b94e7297-ed24-4005-bf31-6c865365fc53"
      },
      "execution_count": null,
      "outputs": [
        {
          "output_type": "stream",
          "name": "stdout",
          "text": [
            "4.25\n"
          ]
        }
      ]
    },
    {
      "cell_type": "markdown",
      "source": [
        "ใช้ฟังก์ชัน find_all เพื่อนำ tag ที่เราต้องการมาเก็บไว้ใน list ใช้ for loop และ if statement เพื่อเลือกข้อมูลที่เราต้องการ"
      ],
      "metadata": {
        "id": "gxt7l4mYvG_L"
      }
    },
    {
      "cell_type": "code",
      "source": [
        "table_data9_7 = get_table_data(tables9_7[2])\n",
        "\n",
        "for i in table_data9_7[10:11]:\n",
        "    if len(i) == 16:\n",
        "        print(i[-2])"
      ],
      "metadata": {
        "colab": {
          "base_uri": "https://localhost:8080/"
        },
        "id": "RHq2xqNL9ba6",
        "outputId": "b5c5e20c-6601-43ec-c37e-f1cd0f3377b7"
      },
      "execution_count": null,
      "outputs": [
        {
          "output_type": "stream",
          "name": "stdout",
          "text": [
            "4.29\n"
          ]
        }
      ]
    },
    {
      "cell_type": "markdown",
      "source": [
        "ใช้ฟังก์ชัน find_all เพื่อนำ tag ที่เราต้องการมาเก็บไว้ใน list ใช้ for loop และ if statement เพื่อเลือกข้อมูลที่เราต้องการ"
      ],
      "metadata": {
        "id": "IedRzxw3vJdQ"
      }
    },
    {
      "cell_type": "code",
      "source": [
        "table_data10_7 = get_table_data(tables10_7[2])\n",
        "\n",
        "for i in table_data10_7[10:11]:\n",
        "    if len(i) == 16:\n",
        "        print(i[-2])"
      ],
      "metadata": {
        "colab": {
          "base_uri": "https://localhost:8080/"
        },
        "id": "3HS6-y9Q9d89",
        "outputId": "b69c3dce-22bd-4a88-a0cf-c1f850609d17"
      },
      "execution_count": null,
      "outputs": [
        {
          "output_type": "stream",
          "name": "stdout",
          "text": [
            "4.60\n"
          ]
        }
      ]
    },
    {
      "cell_type": "markdown",
      "source": [
        "ใช้ฟังก์ชัน find_all เพื่อนำ tag ที่เราต้องการมาเก็บไว้ใน list ใช้ for loop และ if statement เพื่อเลือกข้อมูลที่เราต้องการ"
      ],
      "metadata": {
        "id": "eFfskIaWvLvR"
      }
    },
    {
      "cell_type": "code",
      "source": [
        "table_data1_7 = get_table_data(tables1_7[2])\n",
        "\n",
        "for i in table_data1_7[19:21]:\n",
        "    if len(i) == 16:\n",
        "        print(i[-2])"
      ],
      "metadata": {
        "colab": {
          "base_uri": "https://localhost:8080/"
        },
        "id": "0YukrQXr9jxS",
        "outputId": "73bdc894-0d36-4605-9b48-40c3abaccb41"
      },
      "execution_count": null,
      "outputs": [
        {
          "output_type": "stream",
          "name": "stdout",
          "text": [
            "4.61\n",
            "4.57\n"
          ]
        }
      ]
    },
    {
      "cell_type": "markdown",
      "source": [
        "หาค่า mean โดยใช้ library numpy และปัดเศษทศนิยม 2 ตำแหน่ง โดยใช้ class decimal"
      ],
      "metadata": {
        "id": "7DVilmNAvN-t"
      }
    },
    {
      "cell_type": "code",
      "source": [
        "d1_7_2 = [4.61,4.57]\n",
        "mean1_7_2 = Decimal(np.mean(d1_7_2)).quantize(Decimal('0.01'), rounding=ROUND_HALF_UP)\n",
        "print(mean1_7_2)"
      ],
      "metadata": {
        "colab": {
          "base_uri": "https://localhost:8080/"
        },
        "id": "4uuhwjhu-BiE",
        "outputId": "4ba82787-2892-4011-b787-a2ef5d69ecf7"
      },
      "execution_count": null,
      "outputs": [
        {
          "output_type": "stream",
          "name": "stdout",
          "text": [
            "4.59\n"
          ]
        }
      ]
    },
    {
      "cell_type": "markdown",
      "source": [
        "ใช้ฟังก์ชัน find_all เพื่อนำ tag ที่เราต้องการมาเก็บไว้ใน list ใช้ for loop และ if statement เพื่อเลือกข้อมูลที่เราต้องการ"
      ],
      "metadata": {
        "id": "H9vxo28KvQ8o"
      }
    },
    {
      "cell_type": "code",
      "source": [
        "table_data2_7 = get_table_data(tables2_7[2])\n",
        "\n",
        "for i in table_data2_7[19:21]:\n",
        "    if len(i) == 16:\n",
        "        print(i[-2])"
      ],
      "metadata": {
        "colab": {
          "base_uri": "https://localhost:8080/"
        },
        "id": "1YcniIyD-JuN",
        "outputId": "5be66de2-697c-4d01-bc41-f0a2e3daea59"
      },
      "execution_count": null,
      "outputs": [
        {
          "output_type": "stream",
          "name": "stdout",
          "text": [
            "4.75\n",
            "4.75\n"
          ]
        }
      ]
    },
    {
      "cell_type": "markdown",
      "source": [
        "หาค่า mean โดยใช้ library numpy และปัดเศษทศนิยม 2 ตำแหน่ง โดยใช้ class decimal"
      ],
      "metadata": {
        "id": "4DOVjfmIvTZZ"
      }
    },
    {
      "cell_type": "code",
      "source": [
        "d2_7_2 = [4.75,4.75]\n",
        "mean2_7_2 = Decimal(np.mean(d2_7_2)).quantize(Decimal('0.01'), rounding=ROUND_HALF_UP)\n",
        "print(mean2_7_2)"
      ],
      "metadata": {
        "colab": {
          "base_uri": "https://localhost:8080/"
        },
        "id": "6Hfi5T4N-QJM",
        "outputId": "c05b388b-6acc-4aee-e686-a215735f4c23"
      },
      "execution_count": null,
      "outputs": [
        {
          "output_type": "stream",
          "name": "stdout",
          "text": [
            "4.75\n"
          ]
        }
      ]
    },
    {
      "cell_type": "markdown",
      "source": [
        "ใช้ฟังก์ชัน find_all เพื่อนำ tag ที่เราต้องการมาเก็บไว้ใน list ใช้ for loop และ if statement เพื่อเลือกข้อมูลที่เราต้องการ"
      ],
      "metadata": {
        "id": "dkhhswzsvXBc"
      }
    },
    {
      "cell_type": "code",
      "source": [
        "table_data3_7 = get_table_data(tables3_7[2])\n",
        "\n",
        "for i in table_data3_7[19:21]:\n",
        "    if len(i) == 16:\n",
        "        print(i[-2])"
      ],
      "metadata": {
        "colab": {
          "base_uri": "https://localhost:8080/"
        },
        "id": "ECec2qi5-VIk",
        "outputId": "a5699762-2d91-4359-f204-1375ba94fcf1"
      },
      "execution_count": null,
      "outputs": [
        {
          "output_type": "stream",
          "name": "stdout",
          "text": [
            "4.48\n",
            "4.55\n"
          ]
        }
      ]
    },
    {
      "cell_type": "markdown",
      "source": [
        "หาค่า mean โดยใช้ library numpy และปัดเศษทศนิยม 2 ตำแหน่ง โดยใช้ class decimal"
      ],
      "metadata": {
        "id": "s9WPCBjzvZoQ"
      }
    },
    {
      "cell_type": "code",
      "source": [
        "d3_7_2 = [4.48,4.55]\n",
        "mean3_7_2 = Decimal(np.mean(d3_7_2)).quantize(Decimal('0.01'), rounding=ROUND_HALF_UP)\n",
        "print(mean3_7_2)"
      ],
      "metadata": {
        "colab": {
          "base_uri": "https://localhost:8080/"
        },
        "id": "UqImY0B5-bqT",
        "outputId": "9a62b912-ee1b-4c77-f966-b541d602bb91"
      },
      "execution_count": null,
      "outputs": [
        {
          "output_type": "stream",
          "name": "stdout",
          "text": [
            "4.52\n"
          ]
        }
      ]
    },
    {
      "cell_type": "markdown",
      "source": [
        "ใช้ฟังก์ชัน find_all เพื่อนำ tag ที่เราต้องการมาเก็บไว้ใน list ใช้ for loop และ if statement เพื่อเลือกข้อมูลที่เราต้องการ"
      ],
      "metadata": {
        "id": "0axDhOu_vcjL"
      }
    },
    {
      "cell_type": "code",
      "source": [
        "table_data4_7 = get_table_data(tables4_7[2])\n",
        "\n",
        "for i in table_data4_7[19:21]:\n",
        "    if len(i) == 16:\n",
        "        print(i[-2])"
      ],
      "metadata": {
        "colab": {
          "base_uri": "https://localhost:8080/"
        },
        "id": "QAA7-Tvq-ixZ",
        "outputId": "9aae0034-5551-4ec0-e347-1fb330c1c65c"
      },
      "execution_count": null,
      "outputs": [
        {
          "output_type": "stream",
          "name": "stdout",
          "text": [
            "3.88\n",
            "4.14\n"
          ]
        }
      ]
    },
    {
      "cell_type": "markdown",
      "source": [
        "หาค่า mean โดยใช้ library numpy และปัดเศษทศนิยม 2 ตำแหน่ง โดยใช้ class decimal"
      ],
      "metadata": {
        "id": "PMmYG9tcve0r"
      }
    },
    {
      "cell_type": "code",
      "source": [
        "d4_7_2 = [3.88,4.14]\n",
        "mean4_7_2 = Decimal(np.mean(d4_7_2)).quantize(Decimal('0.01'), rounding=ROUND_HALF_UP)\n",
        "print(mean4_7_2)"
      ],
      "metadata": {
        "colab": {
          "base_uri": "https://localhost:8080/"
        },
        "id": "0pxEsAZj-nkL",
        "outputId": "55c1509d-e844-436a-efa8-acfed62e4cbf"
      },
      "execution_count": null,
      "outputs": [
        {
          "output_type": "stream",
          "name": "stdout",
          "text": [
            "4.01\n"
          ]
        }
      ]
    },
    {
      "cell_type": "markdown",
      "source": [
        "ใช้ฟังก์ชัน find_all เพื่อนำ tag ที่เราต้องการมาเก็บไว้ใน list ใช้ for loop และ if statement เพื่อเลือกข้อมูลที่เราต้องการ"
      ],
      "metadata": {
        "id": "yQ_YGP87vhyV"
      }
    },
    {
      "cell_type": "code",
      "source": [
        "table_data5_7 = get_table_data(tables5_7[2])\n",
        "\n",
        "for i in table_data5_7[8:9]:\n",
        "    if len(i) == 16:\n",
        "        print(i[-2])"
      ],
      "metadata": {
        "colab": {
          "base_uri": "https://localhost:8080/"
        },
        "id": "fvDe3sac-wbU",
        "outputId": "edccd0bd-47d3-4018-c7c2-fe2cb8bc3bec"
      },
      "execution_count": null,
      "outputs": [
        {
          "output_type": "stream",
          "name": "stdout",
          "text": [
            "4.50\n"
          ]
        }
      ]
    },
    {
      "cell_type": "markdown",
      "source": [
        "ใช้ฟังก์ชัน find_all เพื่อนำ tag ที่เราต้องการมาเก็บไว้ใน list ใช้ for loop และ if statement เพื่อเลือกข้อมูลที่เราต้องการ"
      ],
      "metadata": {
        "id": "LqmIh2ZSvj_D"
      }
    },
    {
      "cell_type": "code",
      "source": [
        "table_data6_7 = get_table_data(tables6_7[2])\n",
        "\n",
        "for i in table_data6_7[8:9]:\n",
        "    if len(i) == 16:\n",
        "        print(i[-2])"
      ],
      "metadata": {
        "colab": {
          "base_uri": "https://localhost:8080/"
        },
        "id": "kWvt7TEo_BuK",
        "outputId": "f1881e7e-f1c3-48ca-b250-8db98e1b65e5"
      },
      "execution_count": null,
      "outputs": [
        {
          "output_type": "stream",
          "name": "stdout",
          "text": [
            "4.60\n"
          ]
        }
      ]
    },
    {
      "cell_type": "markdown",
      "source": [
        "ใช้ฟังก์ชัน find_all เพื่อนำ tag ที่เราต้องการมาเก็บไว้ใน list ใช้ for loop และ if statement เพื่อเลือกข้อมูลที่เราต้องการ"
      ],
      "metadata": {
        "id": "xXe4CG63vnB5"
      }
    },
    {
      "cell_type": "code",
      "source": [
        "table_data7_7 = get_table_data(tables7_7[2])\n",
        "\n",
        "for i in table_data7_7[8:9]:\n",
        "    if len(i) == 16:\n",
        "        print(i[-2])"
      ],
      "metadata": {
        "colab": {
          "base_uri": "https://localhost:8080/"
        },
        "id": "HADMB9H0_NDu",
        "outputId": "5a578e6e-a67f-4642-9654-201519b4c7c6"
      },
      "execution_count": null,
      "outputs": [
        {
          "output_type": "stream",
          "name": "stdout",
          "text": [
            "4.00\n"
          ]
        }
      ]
    },
    {
      "cell_type": "markdown",
      "source": [
        "ใช้ฟังก์ชัน find_all เพื่อนำ tag ที่เราต้องการมาเก็บไว้ใน list ใช้ for loop และ if statement เพื่อเลือกข้อมูลที่เราต้องการ"
      ],
      "metadata": {
        "id": "p_zN_fRjvqEr"
      }
    },
    {
      "cell_type": "code",
      "source": [
        "table_data8_7 = get_table_data(tables8_7[2])\n",
        "\n",
        "for i in table_data8_7[8:9]:\n",
        "    if len(i) == 16:\n",
        "        print(i[-2])"
      ],
      "metadata": {
        "colab": {
          "base_uri": "https://localhost:8080/"
        },
        "id": "CBJAF4Hq_RiS",
        "outputId": "ea6ea776-291e-4ffb-d44a-d089f493c918"
      },
      "execution_count": null,
      "outputs": [
        {
          "output_type": "stream",
          "name": "stdout",
          "text": [
            "4.38\n"
          ]
        }
      ]
    },
    {
      "cell_type": "markdown",
      "source": [
        "ใช้ฟังก์ชัน find_all เพื่อนำ tag ที่เราต้องการมาเก็บไว้ใน list ใช้ for loop และ if statement เพื่อเลือกข้อมูลที่เราต้องการ"
      ],
      "metadata": {
        "id": "PM71N8rNvsRp"
      }
    },
    {
      "cell_type": "code",
      "source": [
        "table_data9_7 = get_table_data(tables9_7[2])\n",
        "\n",
        "for i in table_data9_7[8:9]:\n",
        "    if len(i) == 16:\n",
        "        print(i[-2])"
      ],
      "metadata": {
        "colab": {
          "base_uri": "https://localhost:8080/"
        },
        "id": "Gsu-IA8U_W9F",
        "outputId": "befe0c1f-d2f4-4f12-9eca-2042de509825"
      },
      "execution_count": null,
      "outputs": [
        {
          "output_type": "stream",
          "name": "stdout",
          "text": [
            "4.55\n"
          ]
        }
      ]
    },
    {
      "cell_type": "markdown",
      "source": [
        "ใช้ฟังก์ชัน find_all เพื่อนำ tag ที่เราต้องการมาเก็บไว้ใน list ใช้ for loop และ if statement เพื่อเลือกข้อมูลที่เราต้องการ"
      ],
      "metadata": {
        "id": "bzM9A75nvu3T"
      }
    },
    {
      "cell_type": "code",
      "source": [
        "table_data10_7 = get_table_data(tables10_7[2])\n",
        "\n",
        "for i in table_data10_7[8:9]:\n",
        "    if len(i) == 16:\n",
        "        print(i[-2])"
      ],
      "metadata": {
        "colab": {
          "base_uri": "https://localhost:8080/"
        },
        "id": "ZTxhUwQd_Za2",
        "outputId": "19af79b9-ed22-4a84-8a88-3bdf452e3091"
      },
      "execution_count": null,
      "outputs": [
        {
          "output_type": "stream",
          "name": "stdout",
          "text": [
            "4.40\n"
          ]
        }
      ]
    },
    {
      "cell_type": "code",
      "source": [
        "#กำหนดข้อมูลแกน y แกน x ไว้ใน list\n",
        "y = ['DRI970 231863', 'DRI970 728025', 'NYE553 231863', 'YRY790 728025', 'FGL497 231863', 'FGL497 728025', 'FGL497 696574', 'NVI781 231863', 'RMW014 556574', 'AZW892 231863']\n",
        "x1 = [4.35, 4.28, 4.25, 3.25, 4.33, 3.80, 4.25, 4.25, 4.29, 4.60]\n",
        "x2 = [4.59, 4.75, 4.52, 4.01, 4.50, 4.60, 4.00, 4.38, 4.55, 4.40]\n",
        "\n",
        "bar_height = 0.4\n",
        "\n",
        "#กำหนดขนาด\n",
        "fig, ax = plt.subplots(figsize=(8, 8))\n",
        "\n",
        "bar_positions = np.arange(10)\n",
        "\n",
        "#กำหนดลักษณะกราฟแท่ง\n",
        "plt.barh(bar_positions, x1, height=bar_height, label='Data1', color='#C05780')\n",
        "plt.barh(bar_positions, x2, height=bar_height, label='Data2', left=x1, color='#FF828B')\n",
        "\n",
        "#ทำให้ตัวเลขปรากฏบนกราฟแท่ง\n",
        "for i, (value1, value2) in enumerate(zip(x1, x2)):\n",
        "    plt.text(value1 + value2 + 0.05, i, f'{value1 + value2:.2f}', va='center')\n",
        "\n",
        "#กำหนดตัวแปร\n",
        "plt.xlabel('score')\n",
        "plt.ylabel('subject and section')\n",
        "plt.title('Satisfaction in 2563')\n",
        "\n",
        "#กำหนดrange\n",
        "plt.yticks(bar_positions, y)\n",
        "plt.xticks(np.arange(0, 11, 2))\n",
        "\n",
        "plt.show()\n",
        "\n"
      ],
      "metadata": {
        "colab": {
          "base_uri": "https://localhost:8080/",
          "height": 881
        },
        "id": "d4-pRRx9Hku9",
        "outputId": "9a171291-487e-4773-b4e2-6a6e4a213086"
      },
      "execution_count": null,
      "outputs": [
        {
          "output_type": "display_data",
          "data": {
            "text/plain": [
              "<Figure size 800x800 with 1 Axes>"
            ],
            "image/png": "[encoded data removed]"
          },
          "metadata": {}
        }
      ]
    }
  ]
}